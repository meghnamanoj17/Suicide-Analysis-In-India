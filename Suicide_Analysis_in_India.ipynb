{
  "cells": [
    {
      "cell_type": "markdown",
      "metadata": {
        "id": "ImxQpUVAoYhR"
      },
      "source": [
        "# CSE3506- Essentials of Data Analytics<br>J Component"
      ]
    },
    {
      "cell_type": "markdown",
      "metadata": {
        "id": "zOGkFNzbokJ6"
      },
      "source": [
        "### Team Members:\n",
        "Anagha Sriram - 19BCE1592<br>\n",
        "Anmol Gairola - 19BCE1615<br>\n",
        "Remita Austin - 19BCE1637<br>\n",
        "Meghna Manoj - 19BCE1639"
      ]
    },
    {
      "cell_type": "markdown",
      "metadata": {
        "id": "bJiotOTHo_TZ"
      },
      "source": [
        "#Suicide Analysis in India\n",
        " Dataset used: [Kaggle](https://www.kaggle.com/datasets/rajanand/suicides-in-india)<br>"
      ]
    },
    {
      "cell_type": "markdown",
      "metadata": {
        "id": "Pp4WbCsbphbE"
      },
      "source": [
        "### Importing the dependencies"
      ]
    },
    {
      "cell_type": "code",
      "execution_count": null,
      "metadata": {
        "id": "VpOf1m8Ba4J-"
      },
      "outputs": [],
      "source": [
        "import os\n",
        "import pandas as pd\n",
        "import numpy as np\n",
        "import seaborn as sns\n",
        "import matplotlib.pyplot as plt\n",
        "for dirname, _, filenames in os.walk('Suicides in India 2001-2012'):\n",
        "    for filename in filenames:\n",
        "        print(os.path.join(dirname, filename))"
      ]
    },
    {
      "cell_type": "markdown",
      "metadata": {
        "id": "WYmDlqweTeXO"
      },
      "source": [
        "### Reading Data"
      ]
    },
    {
      "cell_type": "code",
      "execution_count": null,
      "metadata": {
        "colab": {
          "base_uri": "https://localhost:8080/",
          "height": 423
        },
        "id": "AQ1G29julaGF",
        "outputId": "ea6df4b4-fcee-40a5-ec7e-0651db39bb74"
      },
      "outputs": [
        {
          "output_type": "execute_result",
          "data": {
            "text/plain": [
              "                State  Year      Type_code  \\\n",
              "0       A & N Islands  2001         Causes   \n",
              "1       A & N Islands  2001         Causes   \n",
              "2       A & N Islands  2001         Causes   \n",
              "3       A & N Islands  2001         Causes   \n",
              "4       A & N Islands  2001         Causes   \n",
              "...               ...   ...            ...   \n",
              "237514    West Bengal  2012  Social_Status   \n",
              "237515    West Bengal  2012  Social_Status   \n",
              "237516    West Bengal  2012  Social_Status   \n",
              "237517    West Bengal  2012  Social_Status   \n",
              "237518    West Bengal  2012  Social_Status   \n",
              "\n",
              "                                           Type  Gender Age_group  Total  \n",
              "0                            Illness (Aids/STD)  Female      0-14      0  \n",
              "1       Bankruptcy or Sudden change in Economic  Female      0-14      0  \n",
              "2       Cancellation/Non-Settlement of Marriage  Female      0-14      0  \n",
              "3             Physical Abuse (Rape/Incest Etc.)  Female      0-14      0  \n",
              "4                                 Dowry Dispute  Female      0-14      0  \n",
              "...                                         ...     ...       ...    ...  \n",
              "237514                                Seperated    Male    0-100+    149  \n",
              "237515                          Widowed/Widower    Male    0-100+    233  \n",
              "237516                                  Married    Male    0-100+   5451  \n",
              "237517                                 Divorcee    Male    0-100+    189  \n",
              "237518                            Never Married    Male    0-100+   2658  \n",
              "\n",
              "[237519 rows x 7 columns]"
            ],
            "text/html": [
              "\n",
              "  <div id=\"df-1368714d-56de-4665-9ea8-e3b17b06fffb\">\n",
              "    <div class=\"colab-df-container\">\n",
              "      <div>\n",
              "<style scoped>\n",
              "    .dataframe tbody tr th:only-of-type {\n",
              "        vertical-align: middle;\n",
              "    }\n",
              "\n",
              "    .dataframe tbody tr th {\n",
              "        vertical-align: top;\n",
              "    }\n",
              "\n",
              "    .dataframe thead th {\n",
              "        text-align: right;\n",
              "    }\n",
              "</style>\n",
              "<table border=\"1\" class=\"dataframe\">\n",
              "  <thead>\n",
              "    <tr style=\"text-align: right;\">\n",
              "      <th></th>\n",
              "      <th>State</th>\n",
              "      <th>Year</th>\n",
              "      <th>Type_code</th>\n",
              "      <th>Type</th>\n",
              "      <th>Gender</th>\n",
              "      <th>Age_group</th>\n",
              "      <th>Total</th>\n",
              "    </tr>\n",
              "  </thead>\n",
              "  <tbody>\n",
              "    <tr>\n",
              "      <th>0</th>\n",
              "      <td>A &amp; N Islands</td>\n",
              "      <td>2001</td>\n",
              "      <td>Causes</td>\n",
              "      <td>Illness (Aids/STD)</td>\n",
              "      <td>Female</td>\n",
              "      <td>0-14</td>\n",
              "      <td>0</td>\n",
              "    </tr>\n",
              "    <tr>\n",
              "      <th>1</th>\n",
              "      <td>A &amp; N Islands</td>\n",
              "      <td>2001</td>\n",
              "      <td>Causes</td>\n",
              "      <td>Bankruptcy or Sudden change in Economic</td>\n",
              "      <td>Female</td>\n",
              "      <td>0-14</td>\n",
              "      <td>0</td>\n",
              "    </tr>\n",
              "    <tr>\n",
              "      <th>2</th>\n",
              "      <td>A &amp; N Islands</td>\n",
              "      <td>2001</td>\n",
              "      <td>Causes</td>\n",
              "      <td>Cancellation/Non-Settlement of Marriage</td>\n",
              "      <td>Female</td>\n",
              "      <td>0-14</td>\n",
              "      <td>0</td>\n",
              "    </tr>\n",
              "    <tr>\n",
              "      <th>3</th>\n",
              "      <td>A &amp; N Islands</td>\n",
              "      <td>2001</td>\n",
              "      <td>Causes</td>\n",
              "      <td>Physical Abuse (Rape/Incest Etc.)</td>\n",
              "      <td>Female</td>\n",
              "      <td>0-14</td>\n",
              "      <td>0</td>\n",
              "    </tr>\n",
              "    <tr>\n",
              "      <th>4</th>\n",
              "      <td>A &amp; N Islands</td>\n",
              "      <td>2001</td>\n",
              "      <td>Causes</td>\n",
              "      <td>Dowry Dispute</td>\n",
              "      <td>Female</td>\n",
              "      <td>0-14</td>\n",
              "      <td>0</td>\n",
              "    </tr>\n",
              "    <tr>\n",
              "      <th>...</th>\n",
              "      <td>...</td>\n",
              "      <td>...</td>\n",
              "      <td>...</td>\n",
              "      <td>...</td>\n",
              "      <td>...</td>\n",
              "      <td>...</td>\n",
              "      <td>...</td>\n",
              "    </tr>\n",
              "    <tr>\n",
              "      <th>237514</th>\n",
              "      <td>West Bengal</td>\n",
              "      <td>2012</td>\n",
              "      <td>Social_Status</td>\n",
              "      <td>Seperated</td>\n",
              "      <td>Male</td>\n",
              "      <td>0-100+</td>\n",
              "      <td>149</td>\n",
              "    </tr>\n",
              "    <tr>\n",
              "      <th>237515</th>\n",
              "      <td>West Bengal</td>\n",
              "      <td>2012</td>\n",
              "      <td>Social_Status</td>\n",
              "      <td>Widowed/Widower</td>\n",
              "      <td>Male</td>\n",
              "      <td>0-100+</td>\n",
              "      <td>233</td>\n",
              "    </tr>\n",
              "    <tr>\n",
              "      <th>237516</th>\n",
              "      <td>West Bengal</td>\n",
              "      <td>2012</td>\n",
              "      <td>Social_Status</td>\n",
              "      <td>Married</td>\n",
              "      <td>Male</td>\n",
              "      <td>0-100+</td>\n",
              "      <td>5451</td>\n",
              "    </tr>\n",
              "    <tr>\n",
              "      <th>237517</th>\n",
              "      <td>West Bengal</td>\n",
              "      <td>2012</td>\n",
              "      <td>Social_Status</td>\n",
              "      <td>Divorcee</td>\n",
              "      <td>Male</td>\n",
              "      <td>0-100+</td>\n",
              "      <td>189</td>\n",
              "    </tr>\n",
              "    <tr>\n",
              "      <th>237518</th>\n",
              "      <td>West Bengal</td>\n",
              "      <td>2012</td>\n",
              "      <td>Social_Status</td>\n",
              "      <td>Never Married</td>\n",
              "      <td>Male</td>\n",
              "      <td>0-100+</td>\n",
              "      <td>2658</td>\n",
              "    </tr>\n",
              "  </tbody>\n",
              "</table>\n",
              "<p>237519 rows × 7 columns</p>\n",
              "</div>\n",
              "      <button class=\"colab-df-convert\" onclick=\"convertToInteractive('df-1368714d-56de-4665-9ea8-e3b17b06fffb')\"\n",
              "              title=\"Convert this dataframe to an interactive table.\"\n",
              "              style=\"display:none;\">\n",
              "        \n",
              "  <svg xmlns=\"http://www.w3.org/2000/svg\" height=\"24px\"viewBox=\"0 0 24 24\"\n",
              "       width=\"24px\">\n",
              "    <path d=\"M0 0h24v24H0V0z\" fill=\"none\"/>\n",
              "    <path d=\"M18.56 5.44l.94 2.06.94-2.06 2.06-.94-2.06-.94-.94-2.06-.94 2.06-2.06.94zm-11 1L8.5 8.5l.94-2.06 2.06-.94-2.06-.94L8.5 2.5l-.94 2.06-2.06.94zm10 10l.94 2.06.94-2.06 2.06-.94-2.06-.94-.94-2.06-.94 2.06-2.06.94z\"/><path d=\"M17.41 7.96l-1.37-1.37c-.4-.4-.92-.59-1.43-.59-.52 0-1.04.2-1.43.59L10.3 9.45l-7.72 7.72c-.78.78-.78 2.05 0 2.83L4 21.41c.39.39.9.59 1.41.59.51 0 1.02-.2 1.41-.59l7.78-7.78 2.81-2.81c.8-.78.8-2.07 0-2.86zM5.41 20L4 18.59l7.72-7.72 1.47 1.35L5.41 20z\"/>\n",
              "  </svg>\n",
              "      </button>\n",
              "      \n",
              "  <style>\n",
              "    .colab-df-container {\n",
              "      display:flex;\n",
              "      flex-wrap:wrap;\n",
              "      gap: 12px;\n",
              "    }\n",
              "\n",
              "    .colab-df-convert {\n",
              "      background-color: #E8F0FE;\n",
              "      border: none;\n",
              "      border-radius: 50%;\n",
              "      cursor: pointer;\n",
              "      display: none;\n",
              "      fill: #1967D2;\n",
              "      height: 32px;\n",
              "      padding: 0 0 0 0;\n",
              "      width: 32px;\n",
              "    }\n",
              "\n",
              "    .colab-df-convert:hover {\n",
              "      background-color: #E2EBFA;\n",
              "      box-shadow: 0px 1px 2px rgba(60, 64, 67, 0.3), 0px 1px 3px 1px rgba(60, 64, 67, 0.15);\n",
              "      fill: #174EA6;\n",
              "    }\n",
              "\n",
              "    [theme=dark] .colab-df-convert {\n",
              "      background-color: #3B4455;\n",
              "      fill: #D2E3FC;\n",
              "    }\n",
              "\n",
              "    [theme=dark] .colab-df-convert:hover {\n",
              "      background-color: #434B5C;\n",
              "      box-shadow: 0px 1px 3px 1px rgba(0, 0, 0, 0.15);\n",
              "      filter: drop-shadow(0px 1px 2px rgba(0, 0, 0, 0.3));\n",
              "      fill: #FFFFFF;\n",
              "    }\n",
              "  </style>\n",
              "\n",
              "      <script>\n",
              "        const buttonEl =\n",
              "          document.querySelector('#df-1368714d-56de-4665-9ea8-e3b17b06fffb button.colab-df-convert');\n",
              "        buttonEl.style.display =\n",
              "          google.colab.kernel.accessAllowed ? 'block' : 'none';\n",
              "\n",
              "        async function convertToInteractive(key) {\n",
              "          const element = document.querySelector('#df-1368714d-56de-4665-9ea8-e3b17b06fffb');\n",
              "          const dataTable =\n",
              "            await google.colab.kernel.invokeFunction('convertToInteractive',\n",
              "                                                     [key], {});\n",
              "          if (!dataTable) return;\n",
              "\n",
              "          const docLinkHtml = 'Like what you see? Visit the ' +\n",
              "            '<a target=\"_blank\" href=https://colab.research.google.com/notebooks/data_table.ipynb>data table notebook</a>'\n",
              "            + ' to learn more about interactive tables.';\n",
              "          element.innerHTML = '';\n",
              "          dataTable['output_type'] = 'display_data';\n",
              "          await google.colab.output.renderOutput(dataTable, element);\n",
              "          const docLink = document.createElement('div');\n",
              "          docLink.innerHTML = docLinkHtml;\n",
              "          element.appendChild(docLink);\n",
              "        }\n",
              "      </script>\n",
              "    </div>\n",
              "  </div>\n",
              "  "
            ]
          },
          "metadata": {},
          "execution_count": 67
        }
      ],
      "source": [
        "df = pd.read_csv('Suicides in India 2001-2012.csv')\n",
        "df"
      ]
    },
    {
      "cell_type": "markdown",
      "metadata": {
        "id": "VokWB6haTld6"
      },
      "source": [
        "### Understanding and Cleaning the data"
      ]
    },
    {
      "cell_type": "code",
      "execution_count": null,
      "metadata": {
        "colab": {
          "base_uri": "https://localhost:8080/"
        },
        "id": "JtvE9i-YllOG",
        "outputId": "1955f294-ddca-4cfd-c97d-681a546af5f2"
      },
      "outputs": [
        {
          "output_type": "execute_result",
          "data": {
            "text/plain": [
              "State        0\n",
              "Year         0\n",
              "Type_code    0\n",
              "Type         0\n",
              "Gender       0\n",
              "Age_group    0\n",
              "Total        0\n",
              "dtype: int64"
            ]
          },
          "metadata": {},
          "execution_count": 68
        }
      ],
      "source": [
        "df.isna().sum()"
      ]
    },
    {
      "cell_type": "code",
      "execution_count": null,
      "metadata": {
        "colab": {
          "base_uri": "https://localhost:8080/",
          "height": 423
        },
        "id": "74VPSeQLluP9",
        "outputId": "0716dbe0-b8ef-4446-8437-e8867bb39a37"
      },
      "outputs": [
        {
          "output_type": "execute_result",
          "data": {
            "text/plain": [
              "                State  Year      Type_code  \\\n",
              "0       A & N Islands  2001         Causes   \n",
              "1       A & N Islands  2001         Causes   \n",
              "2       A & N Islands  2001         Causes   \n",
              "3       A & N Islands  2001         Causes   \n",
              "4       A & N Islands  2001         Causes   \n",
              "...               ...   ...            ...   \n",
              "237514    West Bengal  2012  Social_Status   \n",
              "237515    West Bengal  2012  Social_Status   \n",
              "237516    West Bengal  2012  Social_Status   \n",
              "237517    West Bengal  2012  Social_Status   \n",
              "237518    West Bengal  2012  Social_Status   \n",
              "\n",
              "                                           Type  Gender Age_group  Total  \n",
              "0                            Illness (Aids/STD)  Female      0-14      0  \n",
              "1       Bankruptcy or Sudden change in Economic  Female      0-14      0  \n",
              "2       Cancellation/Non-Settlement of Marriage  Female      0-14      0  \n",
              "3             Physical Abuse (Rape/Incest Etc.)  Female      0-14      0  \n",
              "4                                 Dowry Dispute  Female      0-14      0  \n",
              "...                                         ...     ...       ...    ...  \n",
              "237514                                Seperated    Male    0-100+    149  \n",
              "237515                          Widowed/Widower    Male    0-100+    233  \n",
              "237516                                  Married    Male    0-100+   5451  \n",
              "237517                                 Divorcee    Male    0-100+    189  \n",
              "237518                            Never Married    Male    0-100+   2658  \n",
              "\n",
              "[237519 rows x 7 columns]"
            ],
            "text/html": [
              "\n",
              "  <div id=\"df-73893877-4a37-4e1b-8916-1c30472dddd7\">\n",
              "    <div class=\"colab-df-container\">\n",
              "      <div>\n",
              "<style scoped>\n",
              "    .dataframe tbody tr th:only-of-type {\n",
              "        vertical-align: middle;\n",
              "    }\n",
              "\n",
              "    .dataframe tbody tr th {\n",
              "        vertical-align: top;\n",
              "    }\n",
              "\n",
              "    .dataframe thead th {\n",
              "        text-align: right;\n",
              "    }\n",
              "</style>\n",
              "<table border=\"1\" class=\"dataframe\">\n",
              "  <thead>\n",
              "    <tr style=\"text-align: right;\">\n",
              "      <th></th>\n",
              "      <th>State</th>\n",
              "      <th>Year</th>\n",
              "      <th>Type_code</th>\n",
              "      <th>Type</th>\n",
              "      <th>Gender</th>\n",
              "      <th>Age_group</th>\n",
              "      <th>Total</th>\n",
              "    </tr>\n",
              "  </thead>\n",
              "  <tbody>\n",
              "    <tr>\n",
              "      <th>0</th>\n",
              "      <td>A &amp; N Islands</td>\n",
              "      <td>2001</td>\n",
              "      <td>Causes</td>\n",
              "      <td>Illness (Aids/STD)</td>\n",
              "      <td>Female</td>\n",
              "      <td>0-14</td>\n",
              "      <td>0</td>\n",
              "    </tr>\n",
              "    <tr>\n",
              "      <th>1</th>\n",
              "      <td>A &amp; N Islands</td>\n",
              "      <td>2001</td>\n",
              "      <td>Causes</td>\n",
              "      <td>Bankruptcy or Sudden change in Economic</td>\n",
              "      <td>Female</td>\n",
              "      <td>0-14</td>\n",
              "      <td>0</td>\n",
              "    </tr>\n",
              "    <tr>\n",
              "      <th>2</th>\n",
              "      <td>A &amp; N Islands</td>\n",
              "      <td>2001</td>\n",
              "      <td>Causes</td>\n",
              "      <td>Cancellation/Non-Settlement of Marriage</td>\n",
              "      <td>Female</td>\n",
              "      <td>0-14</td>\n",
              "      <td>0</td>\n",
              "    </tr>\n",
              "    <tr>\n",
              "      <th>3</th>\n",
              "      <td>A &amp; N Islands</td>\n",
              "      <td>2001</td>\n",
              "      <td>Causes</td>\n",
              "      <td>Physical Abuse (Rape/Incest Etc.)</td>\n",
              "      <td>Female</td>\n",
              "      <td>0-14</td>\n",
              "      <td>0</td>\n",
              "    </tr>\n",
              "    <tr>\n",
              "      <th>4</th>\n",
              "      <td>A &amp; N Islands</td>\n",
              "      <td>2001</td>\n",
              "      <td>Causes</td>\n",
              "      <td>Dowry Dispute</td>\n",
              "      <td>Female</td>\n",
              "      <td>0-14</td>\n",
              "      <td>0</td>\n",
              "    </tr>\n",
              "    <tr>\n",
              "      <th>...</th>\n",
              "      <td>...</td>\n",
              "      <td>...</td>\n",
              "      <td>...</td>\n",
              "      <td>...</td>\n",
              "      <td>...</td>\n",
              "      <td>...</td>\n",
              "      <td>...</td>\n",
              "    </tr>\n",
              "    <tr>\n",
              "      <th>237514</th>\n",
              "      <td>West Bengal</td>\n",
              "      <td>2012</td>\n",
              "      <td>Social_Status</td>\n",
              "      <td>Seperated</td>\n",
              "      <td>Male</td>\n",
              "      <td>0-100+</td>\n",
              "      <td>149</td>\n",
              "    </tr>\n",
              "    <tr>\n",
              "      <th>237515</th>\n",
              "      <td>West Bengal</td>\n",
              "      <td>2012</td>\n",
              "      <td>Social_Status</td>\n",
              "      <td>Widowed/Widower</td>\n",
              "      <td>Male</td>\n",
              "      <td>0-100+</td>\n",
              "      <td>233</td>\n",
              "    </tr>\n",
              "    <tr>\n",
              "      <th>237516</th>\n",
              "      <td>West Bengal</td>\n",
              "      <td>2012</td>\n",
              "      <td>Social_Status</td>\n",
              "      <td>Married</td>\n",
              "      <td>Male</td>\n",
              "      <td>0-100+</td>\n",
              "      <td>5451</td>\n",
              "    </tr>\n",
              "    <tr>\n",
              "      <th>237517</th>\n",
              "      <td>West Bengal</td>\n",
              "      <td>2012</td>\n",
              "      <td>Social_Status</td>\n",
              "      <td>Divorcee</td>\n",
              "      <td>Male</td>\n",
              "      <td>0-100+</td>\n",
              "      <td>189</td>\n",
              "    </tr>\n",
              "    <tr>\n",
              "      <th>237518</th>\n",
              "      <td>West Bengal</td>\n",
              "      <td>2012</td>\n",
              "      <td>Social_Status</td>\n",
              "      <td>Never Married</td>\n",
              "      <td>Male</td>\n",
              "      <td>0-100+</td>\n",
              "      <td>2658</td>\n",
              "    </tr>\n",
              "  </tbody>\n",
              "</table>\n",
              "<p>237519 rows × 7 columns</p>\n",
              "</div>\n",
              "      <button class=\"colab-df-convert\" onclick=\"convertToInteractive('df-73893877-4a37-4e1b-8916-1c30472dddd7')\"\n",
              "              title=\"Convert this dataframe to an interactive table.\"\n",
              "              style=\"display:none;\">\n",
              "        \n",
              "  <svg xmlns=\"http://www.w3.org/2000/svg\" height=\"24px\"viewBox=\"0 0 24 24\"\n",
              "       width=\"24px\">\n",
              "    <path d=\"M0 0h24v24H0V0z\" fill=\"none\"/>\n",
              "    <path d=\"M18.56 5.44l.94 2.06.94-2.06 2.06-.94-2.06-.94-.94-2.06-.94 2.06-2.06.94zm-11 1L8.5 8.5l.94-2.06 2.06-.94-2.06-.94L8.5 2.5l-.94 2.06-2.06.94zm10 10l.94 2.06.94-2.06 2.06-.94-2.06-.94-.94-2.06-.94 2.06-2.06.94z\"/><path d=\"M17.41 7.96l-1.37-1.37c-.4-.4-.92-.59-1.43-.59-.52 0-1.04.2-1.43.59L10.3 9.45l-7.72 7.72c-.78.78-.78 2.05 0 2.83L4 21.41c.39.39.9.59 1.41.59.51 0 1.02-.2 1.41-.59l7.78-7.78 2.81-2.81c.8-.78.8-2.07 0-2.86zM5.41 20L4 18.59l7.72-7.72 1.47 1.35L5.41 20z\"/>\n",
              "  </svg>\n",
              "      </button>\n",
              "      \n",
              "  <style>\n",
              "    .colab-df-container {\n",
              "      display:flex;\n",
              "      flex-wrap:wrap;\n",
              "      gap: 12px;\n",
              "    }\n",
              "\n",
              "    .colab-df-convert {\n",
              "      background-color: #E8F0FE;\n",
              "      border: none;\n",
              "      border-radius: 50%;\n",
              "      cursor: pointer;\n",
              "      display: none;\n",
              "      fill: #1967D2;\n",
              "      height: 32px;\n",
              "      padding: 0 0 0 0;\n",
              "      width: 32px;\n",
              "    }\n",
              "\n",
              "    .colab-df-convert:hover {\n",
              "      background-color: #E2EBFA;\n",
              "      box-shadow: 0px 1px 2px rgba(60, 64, 67, 0.3), 0px 1px 3px 1px rgba(60, 64, 67, 0.15);\n",
              "      fill: #174EA6;\n",
              "    }\n",
              "\n",
              "    [theme=dark] .colab-df-convert {\n",
              "      background-color: #3B4455;\n",
              "      fill: #D2E3FC;\n",
              "    }\n",
              "\n",
              "    [theme=dark] .colab-df-convert:hover {\n",
              "      background-color: #434B5C;\n",
              "      box-shadow: 0px 1px 3px 1px rgba(0, 0, 0, 0.15);\n",
              "      filter: drop-shadow(0px 1px 2px rgba(0, 0, 0, 0.3));\n",
              "      fill: #FFFFFF;\n",
              "    }\n",
              "  </style>\n",
              "\n",
              "      <script>\n",
              "        const buttonEl =\n",
              "          document.querySelector('#df-73893877-4a37-4e1b-8916-1c30472dddd7 button.colab-df-convert');\n",
              "        buttonEl.style.display =\n",
              "          google.colab.kernel.accessAllowed ? 'block' : 'none';\n",
              "\n",
              "        async function convertToInteractive(key) {\n",
              "          const element = document.querySelector('#df-73893877-4a37-4e1b-8916-1c30472dddd7');\n",
              "          const dataTable =\n",
              "            await google.colab.kernel.invokeFunction('convertToInteractive',\n",
              "                                                     [key], {});\n",
              "          if (!dataTable) return;\n",
              "\n",
              "          const docLinkHtml = 'Like what you see? Visit the ' +\n",
              "            '<a target=\"_blank\" href=https://colab.research.google.com/notebooks/data_table.ipynb>data table notebook</a>'\n",
              "            + ' to learn more about interactive tables.';\n",
              "          element.innerHTML = '';\n",
              "          dataTable['output_type'] = 'display_data';\n",
              "          await google.colab.output.renderOutput(dataTable, element);\n",
              "          const docLink = document.createElement('div');\n",
              "          docLink.innerHTML = docLinkHtml;\n",
              "          element.appendChild(docLink);\n",
              "        }\n",
              "      </script>\n",
              "    </div>\n",
              "  </div>\n",
              "  "
            ]
          },
          "metadata": {},
          "execution_count": 69
        }
      ],
      "source": [
        "df.drop_duplicates()"
      ]
    },
    {
      "cell_type": "code",
      "execution_count": null,
      "metadata": {
        "colab": {
          "base_uri": "https://localhost:8080/"
        },
        "id": "VrxqR9Axlyrm",
        "outputId": "1c65f648-14f6-4253-c42e-ddf29207b525"
      },
      "outputs": [
        {
          "output_type": "execute_result",
          "data": {
            "text/plain": [
              "array(['A & N Islands', 'Andhra Pradesh', 'Arunachal Pradesh', 'Assam',\n",
              "       'Bihar', 'Chandigarh', 'Chhattisgarh', 'D & N Haveli',\n",
              "       'Daman & Diu', 'Delhi (Ut)', 'Goa', 'Gujarat', 'Haryana',\n",
              "       'Himachal Pradesh', 'Jammu & Kashmir', 'Jharkhand', 'Karnataka',\n",
              "       'Kerala', 'Lakshadweep', 'Madhya Pradesh', 'Maharashtra',\n",
              "       'Manipur', 'Meghalaya', 'Mizoram', 'Nagaland', 'Odisha',\n",
              "       'Puducherry', 'Punjab', 'Rajasthan', 'Sikkim', 'Tamil Nadu',\n",
              "       'Total (All India)', 'Total (States)', 'Total (Uts)', 'Tripura',\n",
              "       'Uttar Pradesh', 'Uttarakhand', 'West Bengal'], dtype=object)"
            ]
          },
          "metadata": {},
          "execution_count": 70
        }
      ],
      "source": [
        "df.State.unique()"
      ]
    },
    {
      "cell_type": "code",
      "execution_count": null,
      "metadata": {
        "colab": {
          "base_uri": "https://localhost:8080/"
        },
        "id": "pavsx9W7l3aL",
        "outputId": "a3511a27-56a5-44d6-b3dc-ef6ec737db9f"
      },
      "outputs": [
        {
          "output_type": "execute_result",
          "data": {
            "text/plain": [
              "array(['A & N Islands', 'Andhra Pradesh', 'Arunachal Pradesh', 'Assam',\n",
              "       'Bihar', 'Chandigarh', 'Chhattisgarh', 'D & N Haveli',\n",
              "       'Daman & Diu', 'Delhi (Ut)', 'Goa', 'Gujarat', 'Haryana',\n",
              "       'Himachal Pradesh', 'Jammu & Kashmir', 'Jharkhand', 'Karnataka',\n",
              "       'Kerala', 'Lakshadweep', 'Madhya Pradesh', 'Maharashtra',\n",
              "       'Manipur', 'Meghalaya', 'Mizoram', 'Nagaland', 'Odisha',\n",
              "       'Puducherry', 'Punjab', 'Rajasthan', 'Sikkim', 'Tamil Nadu',\n",
              "       'Tripura', 'Uttar Pradesh', 'Uttarakhand', 'West Bengal'],\n",
              "      dtype=object)"
            ]
          },
          "metadata": {},
          "execution_count": 71
        }
      ],
      "source": [
        "df = df.drop(df[(df.State == 'Total (Uts)') | (df.State == 'Total (All India)') | \n",
        "               (df.State == 'Total (States)')].index)\n",
        "df.State.unique()"
      ]
    },
    {
      "cell_type": "code",
      "execution_count": null,
      "metadata": {
        "colab": {
          "base_uri": "https://localhost:8080/"
        },
        "id": "UzdnexcWl4Tk",
        "outputId": "fd8c5c40-119c-4d45-e9a7-b5b3ac45c37b"
      },
      "outputs": [
        {
          "output_type": "execute_result",
          "data": {
            "text/plain": [
              "array([2001, 2002, 2003, 2004, 2005, 2006, 2007, 2008, 2009, 2010, 2011,\n",
              "       2012])"
            ]
          },
          "metadata": {},
          "execution_count": 72
        }
      ],
      "source": [
        "df.Year.unique()"
      ]
    },
    {
      "cell_type": "code",
      "execution_count": null,
      "metadata": {
        "colab": {
          "base_uri": "https://localhost:8080/"
        },
        "id": "Mt_IInU3l9W5",
        "outputId": "f206d971-8fb0-45fb-9df5-1f52def4f539"
      },
      "outputs": [
        {
          "output_type": "execute_result",
          "data": {
            "text/plain": [
              "array(['Causes', 'Education_Status', 'Means_adopted',\n",
              "       'Professional_Profile', 'Social_Status'], dtype=object)"
            ]
          },
          "metadata": {},
          "execution_count": 73
        }
      ],
      "source": [
        "df.Type_code.unique()"
      ]
    },
    {
      "cell_type": "code",
      "execution_count": null,
      "metadata": {
        "colab": {
          "base_uri": "https://localhost:8080/"
        },
        "id": "V5s4ohFEl9cP",
        "outputId": "18d21b82-06ff-4dc7-ae50-a0669b5efe74"
      },
      "outputs": [
        {
          "output_type": "execute_result",
          "data": {
            "text/plain": [
              "array(['Illness (Aids/STD)', 'Bankruptcy or Sudden change in Economic',\n",
              "       'Cancellation/Non-Settlement of Marriage',\n",
              "       'Physical Abuse (Rape/Incest Etc.)', 'Dowry Dispute',\n",
              "       'Family Problems', 'Ideological Causes/Hero Worshipping',\n",
              "       'Other Prolonged Illness', 'Property Dispute',\n",
              "       'Fall in Social Reputation', 'Illegitimate Pregnancy',\n",
              "       'Failure in Examination', 'Insanity/Mental Illness',\n",
              "       'Love Affairs', 'Professional/Career Problem', 'Divorce',\n",
              "       'Drug Abuse/Addiction', 'Not having Children(Barrenness/Impotency',\n",
              "       'Causes Not known', 'Unemployment',\n",
              "       'Other Causes (Please Specity)', 'Poverty', 'Death of Dear Person',\n",
              "       'Cancer', 'Suspected/Illicit Relation', 'Paralysis', 'Diploma',\n",
              "       'No Education', 'Post Graduate and Above', 'Middle', 'Graduate',\n",
              "       'Hr. Secondary/Intermediate/Pre-Universit', 'Primary',\n",
              "       'Matriculate/Secondary', 'By Consuming Insecticides', 'By Hanging',\n",
              "       'By Jumping from (Other sites)', 'By touching electric wires',\n",
              "       'By Machine', 'By Fire/Self Immolation',\n",
              "       'By Jumping off Moving Vehicles/Trains',\n",
              "       'By Other means (please specify)', 'By Self Infliction of injury',\n",
              "       'By Over Alcoholism', 'By Consuming Other Poison',\n",
              "       'By coming under running vehicles/trains',\n",
              "       'By Overdose of sleeping pills', 'By Jumping from (Building)',\n",
              "       'By Drowning', 'By Fire-Arms', 'Retired Person', 'Unemployed',\n",
              "       'Public Sector Undertaking', 'Service (Private)', 'House Wife',\n",
              "       'Self-employed (Business activity)', 'Professional Activity',\n",
              "       'Student', 'Others (Please Specify)',\n",
              "       'Farming/Agriculture Activity', 'Service (Government)', 'Married',\n",
              "       'Seperated', 'Widowed/Widower', 'Divorcee', 'Never Married',\n",
              "       'Bankruptcy or Sudden change in Economic Status',\n",
              "       'Not having Children (Barrenness/Impotency', 'By Other means'],\n",
              "      dtype=object)"
            ]
          },
          "metadata": {},
          "execution_count": 74
        }
      ],
      "source": [
        "df.Type.unique()"
      ]
    },
    {
      "cell_type": "code",
      "execution_count": null,
      "metadata": {
        "colab": {
          "base_uri": "https://localhost:8080/",
          "height": 423
        },
        "id": "7wALnwG-mF2C",
        "outputId": "a3d20925-5ad4-4a60-a929-4a258e3d510b"
      },
      "outputs": [
        {
          "output_type": "execute_result",
          "data": {
            "text/plain": [
              "                State  Year Type_code  \\\n",
              "1       A & N Islands  2001    Causes   \n",
              "48      A & N Islands  2001    Causes   \n",
              "56      A & N Islands  2001    Causes   \n",
              "84      A & N Islands  2001    Causes   \n",
              "118     A & N Islands  2001    Causes   \n",
              "...               ...   ...       ...   \n",
              "237100    West Bengal  2012    Causes   \n",
              "237140    West Bengal  2012    Causes   \n",
              "237156    West Bengal  2012    Causes   \n",
              "237183    West Bengal  2012    Causes   \n",
              "237197    West Bengal  2012    Causes   \n",
              "\n",
              "                                           Type  Gender Age_group  Total  \n",
              "1       Bankruptcy or Sudden change in Economic  Female      0-14      0  \n",
              "48      Bankruptcy or Sudden change in Economic    Male      0-14      0  \n",
              "56      Bankruptcy or Sudden change in Economic  Female     15-29      0  \n",
              "84      Bankruptcy or Sudden change in Economic    Male     15-29      0  \n",
              "118     Bankruptcy or Sudden change in Economic  Female     30-44      0  \n",
              "...                                         ...     ...       ...    ...  \n",
              "237100  Bankruptcy or Sudden change in Economic    Male     30-44      0  \n",
              "237140  Bankruptcy or Sudden change in Economic  Female     45-59      0  \n",
              "237156  Bankruptcy or Sudden change in Economic    Male     45-59      0  \n",
              "237183  Bankruptcy or Sudden change in Economic  Female       60+      0  \n",
              "237197  Bankruptcy or Sudden change in Economic    Male       60+      0  \n",
              "\n",
              "[3850 rows x 7 columns]"
            ],
            "text/html": [
              "\n",
              "  <div id=\"df-872af4c0-f6b7-4ad7-8137-ff057d054e6c\">\n",
              "    <div class=\"colab-df-container\">\n",
              "      <div>\n",
              "<style scoped>\n",
              "    .dataframe tbody tr th:only-of-type {\n",
              "        vertical-align: middle;\n",
              "    }\n",
              "\n",
              "    .dataframe tbody tr th {\n",
              "        vertical-align: top;\n",
              "    }\n",
              "\n",
              "    .dataframe thead th {\n",
              "        text-align: right;\n",
              "    }\n",
              "</style>\n",
              "<table border=\"1\" class=\"dataframe\">\n",
              "  <thead>\n",
              "    <tr style=\"text-align: right;\">\n",
              "      <th></th>\n",
              "      <th>State</th>\n",
              "      <th>Year</th>\n",
              "      <th>Type_code</th>\n",
              "      <th>Type</th>\n",
              "      <th>Gender</th>\n",
              "      <th>Age_group</th>\n",
              "      <th>Total</th>\n",
              "    </tr>\n",
              "  </thead>\n",
              "  <tbody>\n",
              "    <tr>\n",
              "      <th>1</th>\n",
              "      <td>A &amp; N Islands</td>\n",
              "      <td>2001</td>\n",
              "      <td>Causes</td>\n",
              "      <td>Bankruptcy or Sudden change in Economic</td>\n",
              "      <td>Female</td>\n",
              "      <td>0-14</td>\n",
              "      <td>0</td>\n",
              "    </tr>\n",
              "    <tr>\n",
              "      <th>48</th>\n",
              "      <td>A &amp; N Islands</td>\n",
              "      <td>2001</td>\n",
              "      <td>Causes</td>\n",
              "      <td>Bankruptcy or Sudden change in Economic</td>\n",
              "      <td>Male</td>\n",
              "      <td>0-14</td>\n",
              "      <td>0</td>\n",
              "    </tr>\n",
              "    <tr>\n",
              "      <th>56</th>\n",
              "      <td>A &amp; N Islands</td>\n",
              "      <td>2001</td>\n",
              "      <td>Causes</td>\n",
              "      <td>Bankruptcy or Sudden change in Economic</td>\n",
              "      <td>Female</td>\n",
              "      <td>15-29</td>\n",
              "      <td>0</td>\n",
              "    </tr>\n",
              "    <tr>\n",
              "      <th>84</th>\n",
              "      <td>A &amp; N Islands</td>\n",
              "      <td>2001</td>\n",
              "      <td>Causes</td>\n",
              "      <td>Bankruptcy or Sudden change in Economic</td>\n",
              "      <td>Male</td>\n",
              "      <td>15-29</td>\n",
              "      <td>0</td>\n",
              "    </tr>\n",
              "    <tr>\n",
              "      <th>118</th>\n",
              "      <td>A &amp; N Islands</td>\n",
              "      <td>2001</td>\n",
              "      <td>Causes</td>\n",
              "      <td>Bankruptcy or Sudden change in Economic</td>\n",
              "      <td>Female</td>\n",
              "      <td>30-44</td>\n",
              "      <td>0</td>\n",
              "    </tr>\n",
              "    <tr>\n",
              "      <th>...</th>\n",
              "      <td>...</td>\n",
              "      <td>...</td>\n",
              "      <td>...</td>\n",
              "      <td>...</td>\n",
              "      <td>...</td>\n",
              "      <td>...</td>\n",
              "      <td>...</td>\n",
              "    </tr>\n",
              "    <tr>\n",
              "      <th>237100</th>\n",
              "      <td>West Bengal</td>\n",
              "      <td>2012</td>\n",
              "      <td>Causes</td>\n",
              "      <td>Bankruptcy or Sudden change in Economic</td>\n",
              "      <td>Male</td>\n",
              "      <td>30-44</td>\n",
              "      <td>0</td>\n",
              "    </tr>\n",
              "    <tr>\n",
              "      <th>237140</th>\n",
              "      <td>West Bengal</td>\n",
              "      <td>2012</td>\n",
              "      <td>Causes</td>\n",
              "      <td>Bankruptcy or Sudden change in Economic</td>\n",
              "      <td>Female</td>\n",
              "      <td>45-59</td>\n",
              "      <td>0</td>\n",
              "    </tr>\n",
              "    <tr>\n",
              "      <th>237156</th>\n",
              "      <td>West Bengal</td>\n",
              "      <td>2012</td>\n",
              "      <td>Causes</td>\n",
              "      <td>Bankruptcy or Sudden change in Economic</td>\n",
              "      <td>Male</td>\n",
              "      <td>45-59</td>\n",
              "      <td>0</td>\n",
              "    </tr>\n",
              "    <tr>\n",
              "      <th>237183</th>\n",
              "      <td>West Bengal</td>\n",
              "      <td>2012</td>\n",
              "      <td>Causes</td>\n",
              "      <td>Bankruptcy or Sudden change in Economic</td>\n",
              "      <td>Female</td>\n",
              "      <td>60+</td>\n",
              "      <td>0</td>\n",
              "    </tr>\n",
              "    <tr>\n",
              "      <th>237197</th>\n",
              "      <td>West Bengal</td>\n",
              "      <td>2012</td>\n",
              "      <td>Causes</td>\n",
              "      <td>Bankruptcy or Sudden change in Economic</td>\n",
              "      <td>Male</td>\n",
              "      <td>60+</td>\n",
              "      <td>0</td>\n",
              "    </tr>\n",
              "  </tbody>\n",
              "</table>\n",
              "<p>3850 rows × 7 columns</p>\n",
              "</div>\n",
              "      <button class=\"colab-df-convert\" onclick=\"convertToInteractive('df-872af4c0-f6b7-4ad7-8137-ff057d054e6c')\"\n",
              "              title=\"Convert this dataframe to an interactive table.\"\n",
              "              style=\"display:none;\">\n",
              "        \n",
              "  <svg xmlns=\"http://www.w3.org/2000/svg\" height=\"24px\"viewBox=\"0 0 24 24\"\n",
              "       width=\"24px\">\n",
              "    <path d=\"M0 0h24v24H0V0z\" fill=\"none\"/>\n",
              "    <path d=\"M18.56 5.44l.94 2.06.94-2.06 2.06-.94-2.06-.94-.94-2.06-.94 2.06-2.06.94zm-11 1L8.5 8.5l.94-2.06 2.06-.94-2.06-.94L8.5 2.5l-.94 2.06-2.06.94zm10 10l.94 2.06.94-2.06 2.06-.94-2.06-.94-.94-2.06-.94 2.06-2.06.94z\"/><path d=\"M17.41 7.96l-1.37-1.37c-.4-.4-.92-.59-1.43-.59-.52 0-1.04.2-1.43.59L10.3 9.45l-7.72 7.72c-.78.78-.78 2.05 0 2.83L4 21.41c.39.39.9.59 1.41.59.51 0 1.02-.2 1.41-.59l7.78-7.78 2.81-2.81c.8-.78.8-2.07 0-2.86zM5.41 20L4 18.59l7.72-7.72 1.47 1.35L5.41 20z\"/>\n",
              "  </svg>\n",
              "      </button>\n",
              "      \n",
              "  <style>\n",
              "    .colab-df-container {\n",
              "      display:flex;\n",
              "      flex-wrap:wrap;\n",
              "      gap: 12px;\n",
              "    }\n",
              "\n",
              "    .colab-df-convert {\n",
              "      background-color: #E8F0FE;\n",
              "      border: none;\n",
              "      border-radius: 50%;\n",
              "      cursor: pointer;\n",
              "      display: none;\n",
              "      fill: #1967D2;\n",
              "      height: 32px;\n",
              "      padding: 0 0 0 0;\n",
              "      width: 32px;\n",
              "    }\n",
              "\n",
              "    .colab-df-convert:hover {\n",
              "      background-color: #E2EBFA;\n",
              "      box-shadow: 0px 1px 2px rgba(60, 64, 67, 0.3), 0px 1px 3px 1px rgba(60, 64, 67, 0.15);\n",
              "      fill: #174EA6;\n",
              "    }\n",
              "\n",
              "    [theme=dark] .colab-df-convert {\n",
              "      background-color: #3B4455;\n",
              "      fill: #D2E3FC;\n",
              "    }\n",
              "\n",
              "    [theme=dark] .colab-df-convert:hover {\n",
              "      background-color: #434B5C;\n",
              "      box-shadow: 0px 1px 3px 1px rgba(0, 0, 0, 0.15);\n",
              "      filter: drop-shadow(0px 1px 2px rgba(0, 0, 0, 0.3));\n",
              "      fill: #FFFFFF;\n",
              "    }\n",
              "  </style>\n",
              "\n",
              "      <script>\n",
              "        const buttonEl =\n",
              "          document.querySelector('#df-872af4c0-f6b7-4ad7-8137-ff057d054e6c button.colab-df-convert');\n",
              "        buttonEl.style.display =\n",
              "          google.colab.kernel.accessAllowed ? 'block' : 'none';\n",
              "\n",
              "        async function convertToInteractive(key) {\n",
              "          const element = document.querySelector('#df-872af4c0-f6b7-4ad7-8137-ff057d054e6c');\n",
              "          const dataTable =\n",
              "            await google.colab.kernel.invokeFunction('convertToInteractive',\n",
              "                                                     [key], {});\n",
              "          if (!dataTable) return;\n",
              "\n",
              "          const docLinkHtml = 'Like what you see? Visit the ' +\n",
              "            '<a target=\"_blank\" href=https://colab.research.google.com/notebooks/data_table.ipynb>data table notebook</a>'\n",
              "            + ' to learn more about interactive tables.';\n",
              "          element.innerHTML = '';\n",
              "          dataTable['output_type'] = 'display_data';\n",
              "          await google.colab.output.renderOutput(dataTable, element);\n",
              "          const docLink = document.createElement('div');\n",
              "          docLink.innerHTML = docLinkHtml;\n",
              "          element.appendChild(docLink);\n",
              "        }\n",
              "      </script>\n",
              "    </div>\n",
              "  </div>\n",
              "  "
            ]
          },
          "metadata": {},
          "execution_count": 75
        }
      ],
      "source": [
        "df[df['Type']=='Bankruptcy or Sudden change in Economic']"
      ]
    },
    {
      "cell_type": "code",
      "execution_count": null,
      "metadata": {
        "id": "zcrRulc4mF5j"
      },
      "outputs": [],
      "source": [
        "df['Type'] = df['Type'].replace(['Bankruptcy or Sudden change in Economic'],'Bankruptcy or Sudden change in Economic Status')\n",
        "df=df.drop(df[(df.Type =='By Other means')|(df.Type=='Other Causes (Please Specity)')| (df.Type=='Others (Please Specify)')|(df.Type=='Causes Not known')].index)\n",
        "df = df.drop(df[df['Total'] == 0].index)"
      ]
    },
    {
      "cell_type": "code",
      "execution_count": null,
      "metadata": {
        "colab": {
          "base_uri": "https://localhost:8080/"
        },
        "id": "suOpNvHDmV51",
        "outputId": "0b5f1843-a985-4229-a8c1-b26024d7272d"
      },
      "outputs": [
        {
          "output_type": "execute_result",
          "data": {
            "text/plain": [
              "array(['Female', 'Male'], dtype=object)"
            ]
          },
          "metadata": {},
          "execution_count": 77
        }
      ],
      "source": [
        "df.Gender.unique()"
      ]
    },
    {
      "cell_type": "code",
      "execution_count": null,
      "metadata": {
        "colab": {
          "base_uri": "https://localhost:8080/"
        },
        "id": "2-1tILoimYv0",
        "outputId": "90e3de2b-f06d-4d16-e2e1-76a1c28076bc"
      },
      "outputs": [
        {
          "output_type": "execute_result",
          "data": {
            "text/plain": [
              "array(['0-14', '15-29', '30-44', '45-59', '60+', '0-100+'], dtype=object)"
            ]
          },
          "metadata": {},
          "execution_count": 78
        }
      ],
      "source": [
        "df.Age_group.unique()"
      ]
    },
    {
      "cell_type": "code",
      "execution_count": null,
      "metadata": {
        "colab": {
          "base_uri": "https://localhost:8080/",
          "height": 423
        },
        "id": "ySg_0WnXmYzX",
        "outputId": "d8e35079-0d4a-4069-c59d-8da38e3d2cb3"
      },
      "outputs": [
        {
          "output_type": "execute_result",
          "data": {
            "text/plain": [
              "                State  Year         Type_code                   Type  Gender  \\\n",
              "261     A & N Islands  2001  Education_Status           No Education  Female   \n",
              "263     A & N Islands  2001  Education_Status                 Middle  Female   \n",
              "266     A & N Islands  2001  Education_Status                Primary  Female   \n",
              "267     A & N Islands  2001  Education_Status  Matriculate/Secondary  Female   \n",
              "268     A & N Islands  2001  Education_Status  Matriculate/Secondary    Male   \n",
              "...               ...   ...               ...                    ...     ...   \n",
              "237514    West Bengal  2012     Social_Status              Seperated    Male   \n",
              "237515    West Bengal  2012     Social_Status        Widowed/Widower    Male   \n",
              "237516    West Bengal  2012     Social_Status                Married    Male   \n",
              "237517    West Bengal  2012     Social_Status               Divorcee    Male   \n",
              "237518    West Bengal  2012     Social_Status          Never Married    Male   \n",
              "\n",
              "       Age_group  Total  \n",
              "261       0-100+      4  \n",
              "263       0-100+     33  \n",
              "266       0-100+      7  \n",
              "267       0-100+      6  \n",
              "268       0-100+     10  \n",
              "...          ...    ...  \n",
              "237514    0-100+    149  \n",
              "237515    0-100+    233  \n",
              "237516    0-100+   5451  \n",
              "237517    0-100+    189  \n",
              "237518    0-100+   2658  \n",
              "\n",
              "[8951 rows x 7 columns]"
            ],
            "text/html": [
              "\n",
              "  <div id=\"df-01fb210f-927c-42fe-bb44-f46b28d8fbcf\">\n",
              "    <div class=\"colab-df-container\">\n",
              "      <div>\n",
              "<style scoped>\n",
              "    .dataframe tbody tr th:only-of-type {\n",
              "        vertical-align: middle;\n",
              "    }\n",
              "\n",
              "    .dataframe tbody tr th {\n",
              "        vertical-align: top;\n",
              "    }\n",
              "\n",
              "    .dataframe thead th {\n",
              "        text-align: right;\n",
              "    }\n",
              "</style>\n",
              "<table border=\"1\" class=\"dataframe\">\n",
              "  <thead>\n",
              "    <tr style=\"text-align: right;\">\n",
              "      <th></th>\n",
              "      <th>State</th>\n",
              "      <th>Year</th>\n",
              "      <th>Type_code</th>\n",
              "      <th>Type</th>\n",
              "      <th>Gender</th>\n",
              "      <th>Age_group</th>\n",
              "      <th>Total</th>\n",
              "    </tr>\n",
              "  </thead>\n",
              "  <tbody>\n",
              "    <tr>\n",
              "      <th>261</th>\n",
              "      <td>A &amp; N Islands</td>\n",
              "      <td>2001</td>\n",
              "      <td>Education_Status</td>\n",
              "      <td>No Education</td>\n",
              "      <td>Female</td>\n",
              "      <td>0-100+</td>\n",
              "      <td>4</td>\n",
              "    </tr>\n",
              "    <tr>\n",
              "      <th>263</th>\n",
              "      <td>A &amp; N Islands</td>\n",
              "      <td>2001</td>\n",
              "      <td>Education_Status</td>\n",
              "      <td>Middle</td>\n",
              "      <td>Female</td>\n",
              "      <td>0-100+</td>\n",
              "      <td>33</td>\n",
              "    </tr>\n",
              "    <tr>\n",
              "      <th>266</th>\n",
              "      <td>A &amp; N Islands</td>\n",
              "      <td>2001</td>\n",
              "      <td>Education_Status</td>\n",
              "      <td>Primary</td>\n",
              "      <td>Female</td>\n",
              "      <td>0-100+</td>\n",
              "      <td>7</td>\n",
              "    </tr>\n",
              "    <tr>\n",
              "      <th>267</th>\n",
              "      <td>A &amp; N Islands</td>\n",
              "      <td>2001</td>\n",
              "      <td>Education_Status</td>\n",
              "      <td>Matriculate/Secondary</td>\n",
              "      <td>Female</td>\n",
              "      <td>0-100+</td>\n",
              "      <td>6</td>\n",
              "    </tr>\n",
              "    <tr>\n",
              "      <th>268</th>\n",
              "      <td>A &amp; N Islands</td>\n",
              "      <td>2001</td>\n",
              "      <td>Education_Status</td>\n",
              "      <td>Matriculate/Secondary</td>\n",
              "      <td>Male</td>\n",
              "      <td>0-100+</td>\n",
              "      <td>10</td>\n",
              "    </tr>\n",
              "    <tr>\n",
              "      <th>...</th>\n",
              "      <td>...</td>\n",
              "      <td>...</td>\n",
              "      <td>...</td>\n",
              "      <td>...</td>\n",
              "      <td>...</td>\n",
              "      <td>...</td>\n",
              "      <td>...</td>\n",
              "    </tr>\n",
              "    <tr>\n",
              "      <th>237514</th>\n",
              "      <td>West Bengal</td>\n",
              "      <td>2012</td>\n",
              "      <td>Social_Status</td>\n",
              "      <td>Seperated</td>\n",
              "      <td>Male</td>\n",
              "      <td>0-100+</td>\n",
              "      <td>149</td>\n",
              "    </tr>\n",
              "    <tr>\n",
              "      <th>237515</th>\n",
              "      <td>West Bengal</td>\n",
              "      <td>2012</td>\n",
              "      <td>Social_Status</td>\n",
              "      <td>Widowed/Widower</td>\n",
              "      <td>Male</td>\n",
              "      <td>0-100+</td>\n",
              "      <td>233</td>\n",
              "    </tr>\n",
              "    <tr>\n",
              "      <th>237516</th>\n",
              "      <td>West Bengal</td>\n",
              "      <td>2012</td>\n",
              "      <td>Social_Status</td>\n",
              "      <td>Married</td>\n",
              "      <td>Male</td>\n",
              "      <td>0-100+</td>\n",
              "      <td>5451</td>\n",
              "    </tr>\n",
              "    <tr>\n",
              "      <th>237517</th>\n",
              "      <td>West Bengal</td>\n",
              "      <td>2012</td>\n",
              "      <td>Social_Status</td>\n",
              "      <td>Divorcee</td>\n",
              "      <td>Male</td>\n",
              "      <td>0-100+</td>\n",
              "      <td>189</td>\n",
              "    </tr>\n",
              "    <tr>\n",
              "      <th>237518</th>\n",
              "      <td>West Bengal</td>\n",
              "      <td>2012</td>\n",
              "      <td>Social_Status</td>\n",
              "      <td>Never Married</td>\n",
              "      <td>Male</td>\n",
              "      <td>0-100+</td>\n",
              "      <td>2658</td>\n",
              "    </tr>\n",
              "  </tbody>\n",
              "</table>\n",
              "<p>8951 rows × 7 columns</p>\n",
              "</div>\n",
              "      <button class=\"colab-df-convert\" onclick=\"convertToInteractive('df-01fb210f-927c-42fe-bb44-f46b28d8fbcf')\"\n",
              "              title=\"Convert this dataframe to an interactive table.\"\n",
              "              style=\"display:none;\">\n",
              "        \n",
              "  <svg xmlns=\"http://www.w3.org/2000/svg\" height=\"24px\"viewBox=\"0 0 24 24\"\n",
              "       width=\"24px\">\n",
              "    <path d=\"M0 0h24v24H0V0z\" fill=\"none\"/>\n",
              "    <path d=\"M18.56 5.44l.94 2.06.94-2.06 2.06-.94-2.06-.94-.94-2.06-.94 2.06-2.06.94zm-11 1L8.5 8.5l.94-2.06 2.06-.94-2.06-.94L8.5 2.5l-.94 2.06-2.06.94zm10 10l.94 2.06.94-2.06 2.06-.94-2.06-.94-.94-2.06-.94 2.06-2.06.94z\"/><path d=\"M17.41 7.96l-1.37-1.37c-.4-.4-.92-.59-1.43-.59-.52 0-1.04.2-1.43.59L10.3 9.45l-7.72 7.72c-.78.78-.78 2.05 0 2.83L4 21.41c.39.39.9.59 1.41.59.51 0 1.02-.2 1.41-.59l7.78-7.78 2.81-2.81c.8-.78.8-2.07 0-2.86zM5.41 20L4 18.59l7.72-7.72 1.47 1.35L5.41 20z\"/>\n",
              "  </svg>\n",
              "      </button>\n",
              "      \n",
              "  <style>\n",
              "    .colab-df-container {\n",
              "      display:flex;\n",
              "      flex-wrap:wrap;\n",
              "      gap: 12px;\n",
              "    }\n",
              "\n",
              "    .colab-df-convert {\n",
              "      background-color: #E8F0FE;\n",
              "      border: none;\n",
              "      border-radius: 50%;\n",
              "      cursor: pointer;\n",
              "      display: none;\n",
              "      fill: #1967D2;\n",
              "      height: 32px;\n",
              "      padding: 0 0 0 0;\n",
              "      width: 32px;\n",
              "    }\n",
              "\n",
              "    .colab-df-convert:hover {\n",
              "      background-color: #E2EBFA;\n",
              "      box-shadow: 0px 1px 2px rgba(60, 64, 67, 0.3), 0px 1px 3px 1px rgba(60, 64, 67, 0.15);\n",
              "      fill: #174EA6;\n",
              "    }\n",
              "\n",
              "    [theme=dark] .colab-df-convert {\n",
              "      background-color: #3B4455;\n",
              "      fill: #D2E3FC;\n",
              "    }\n",
              "\n",
              "    [theme=dark] .colab-df-convert:hover {\n",
              "      background-color: #434B5C;\n",
              "      box-shadow: 0px 1px 3px 1px rgba(0, 0, 0, 0.15);\n",
              "      filter: drop-shadow(0px 1px 2px rgba(0, 0, 0, 0.3));\n",
              "      fill: #FFFFFF;\n",
              "    }\n",
              "  </style>\n",
              "\n",
              "      <script>\n",
              "        const buttonEl =\n",
              "          document.querySelector('#df-01fb210f-927c-42fe-bb44-f46b28d8fbcf button.colab-df-convert');\n",
              "        buttonEl.style.display =\n",
              "          google.colab.kernel.accessAllowed ? 'block' : 'none';\n",
              "\n",
              "        async function convertToInteractive(key) {\n",
              "          const element = document.querySelector('#df-01fb210f-927c-42fe-bb44-f46b28d8fbcf');\n",
              "          const dataTable =\n",
              "            await google.colab.kernel.invokeFunction('convertToInteractive',\n",
              "                                                     [key], {});\n",
              "          if (!dataTable) return;\n",
              "\n",
              "          const docLinkHtml = 'Like what you see? Visit the ' +\n",
              "            '<a target=\"_blank\" href=https://colab.research.google.com/notebooks/data_table.ipynb>data table notebook</a>'\n",
              "            + ' to learn more about interactive tables.';\n",
              "          element.innerHTML = '';\n",
              "          dataTable['output_type'] = 'display_data';\n",
              "          await google.colab.output.renderOutput(dataTable, element);\n",
              "          const docLink = document.createElement('div');\n",
              "          docLink.innerHTML = docLinkHtml;\n",
              "          element.appendChild(docLink);\n",
              "        }\n",
              "      </script>\n",
              "    </div>\n",
              "  </div>\n",
              "  "
            ]
          },
          "metadata": {},
          "execution_count": 79
        }
      ],
      "source": [
        "df[df['Age_group']=='0-100+']"
      ]
    },
    {
      "cell_type": "code",
      "execution_count": null,
      "metadata": {
        "colab": {
          "base_uri": "https://localhost:8080/",
          "height": 423
        },
        "id": "k3w2yCa6mjkA",
        "outputId": "fe3f7a88-25ac-4499-a6f6-2a88ebb598a9"
      },
      "outputs": [
        {
          "output_type": "execute_result",
          "data": {
            "text/plain": [
              "                State  Year      Type_code  \\\n",
              "13      A & N Islands  2001         Causes   \n",
              "32      A & N Islands  2001         Causes   \n",
              "47      A & N Islands  2001         Causes   \n",
              "54      A & N Islands  2001         Causes   \n",
              "69      A & N Islands  2001         Causes   \n",
              "...               ...   ...            ...   \n",
              "237393    West Bengal  2012  Means_adopted   \n",
              "237394    West Bengal  2012  Means_adopted   \n",
              "237395    West Bengal  2012  Means_adopted   \n",
              "237396    West Bengal  2012  Means_adopted   \n",
              "237397    West Bengal  2012  Means_adopted   \n",
              "\n",
              "                                         Type  Gender Age_group  Total  \n",
              "13                               Love Affairs  Female      0-14      1  \n",
              "32                    Other Prolonged Illness    Male      0-14      1  \n",
              "47                     Failure in Examination    Male      0-14      1  \n",
              "54                    Other Prolonged Illness  Female     15-29      8  \n",
              "69                            Family Problems  Female     15-29      5  \n",
              "...                                       ...     ...       ...    ...  \n",
              "237393  By Jumping off Moving Vehicles/Trains    Male       60+      7  \n",
              "237394              By Consuming Insecticides    Male       60+     53  \n",
              "237395        By Other means (please specify)    Male       60+    241  \n",
              "237396              By Consuming Other Poison    Male       60+     99  \n",
              "237397                By Fire/Self Immolation    Male       60+     21  \n",
              "\n",
              "[80040 rows x 7 columns]"
            ],
            "text/html": [
              "\n",
              "  <div id=\"df-9724acca-ab2b-4ae0-9f59-53b8d8cbf674\">\n",
              "    <div class=\"colab-df-container\">\n",
              "      <div>\n",
              "<style scoped>\n",
              "    .dataframe tbody tr th:only-of-type {\n",
              "        vertical-align: middle;\n",
              "    }\n",
              "\n",
              "    .dataframe tbody tr th {\n",
              "        vertical-align: top;\n",
              "    }\n",
              "\n",
              "    .dataframe thead th {\n",
              "        text-align: right;\n",
              "    }\n",
              "</style>\n",
              "<table border=\"1\" class=\"dataframe\">\n",
              "  <thead>\n",
              "    <tr style=\"text-align: right;\">\n",
              "      <th></th>\n",
              "      <th>State</th>\n",
              "      <th>Year</th>\n",
              "      <th>Type_code</th>\n",
              "      <th>Type</th>\n",
              "      <th>Gender</th>\n",
              "      <th>Age_group</th>\n",
              "      <th>Total</th>\n",
              "    </tr>\n",
              "  </thead>\n",
              "  <tbody>\n",
              "    <tr>\n",
              "      <th>13</th>\n",
              "      <td>A &amp; N Islands</td>\n",
              "      <td>2001</td>\n",
              "      <td>Causes</td>\n",
              "      <td>Love Affairs</td>\n",
              "      <td>Female</td>\n",
              "      <td>0-14</td>\n",
              "      <td>1</td>\n",
              "    </tr>\n",
              "    <tr>\n",
              "      <th>32</th>\n",
              "      <td>A &amp; N Islands</td>\n",
              "      <td>2001</td>\n",
              "      <td>Causes</td>\n",
              "      <td>Other Prolonged Illness</td>\n",
              "      <td>Male</td>\n",
              "      <td>0-14</td>\n",
              "      <td>1</td>\n",
              "    </tr>\n",
              "    <tr>\n",
              "      <th>47</th>\n",
              "      <td>A &amp; N Islands</td>\n",
              "      <td>2001</td>\n",
              "      <td>Causes</td>\n",
              "      <td>Failure in Examination</td>\n",
              "      <td>Male</td>\n",
              "      <td>0-14</td>\n",
              "      <td>1</td>\n",
              "    </tr>\n",
              "    <tr>\n",
              "      <th>54</th>\n",
              "      <td>A &amp; N Islands</td>\n",
              "      <td>2001</td>\n",
              "      <td>Causes</td>\n",
              "      <td>Other Prolonged Illness</td>\n",
              "      <td>Female</td>\n",
              "      <td>15-29</td>\n",
              "      <td>8</td>\n",
              "    </tr>\n",
              "    <tr>\n",
              "      <th>69</th>\n",
              "      <td>A &amp; N Islands</td>\n",
              "      <td>2001</td>\n",
              "      <td>Causes</td>\n",
              "      <td>Family Problems</td>\n",
              "      <td>Female</td>\n",
              "      <td>15-29</td>\n",
              "      <td>5</td>\n",
              "    </tr>\n",
              "    <tr>\n",
              "      <th>...</th>\n",
              "      <td>...</td>\n",
              "      <td>...</td>\n",
              "      <td>...</td>\n",
              "      <td>...</td>\n",
              "      <td>...</td>\n",
              "      <td>...</td>\n",
              "      <td>...</td>\n",
              "    </tr>\n",
              "    <tr>\n",
              "      <th>237393</th>\n",
              "      <td>West Bengal</td>\n",
              "      <td>2012</td>\n",
              "      <td>Means_adopted</td>\n",
              "      <td>By Jumping off Moving Vehicles/Trains</td>\n",
              "      <td>Male</td>\n",
              "      <td>60+</td>\n",
              "      <td>7</td>\n",
              "    </tr>\n",
              "    <tr>\n",
              "      <th>237394</th>\n",
              "      <td>West Bengal</td>\n",
              "      <td>2012</td>\n",
              "      <td>Means_adopted</td>\n",
              "      <td>By Consuming Insecticides</td>\n",
              "      <td>Male</td>\n",
              "      <td>60+</td>\n",
              "      <td>53</td>\n",
              "    </tr>\n",
              "    <tr>\n",
              "      <th>237395</th>\n",
              "      <td>West Bengal</td>\n",
              "      <td>2012</td>\n",
              "      <td>Means_adopted</td>\n",
              "      <td>By Other means (please specify)</td>\n",
              "      <td>Male</td>\n",
              "      <td>60+</td>\n",
              "      <td>241</td>\n",
              "    </tr>\n",
              "    <tr>\n",
              "      <th>237396</th>\n",
              "      <td>West Bengal</td>\n",
              "      <td>2012</td>\n",
              "      <td>Means_adopted</td>\n",
              "      <td>By Consuming Other Poison</td>\n",
              "      <td>Male</td>\n",
              "      <td>60+</td>\n",
              "      <td>99</td>\n",
              "    </tr>\n",
              "    <tr>\n",
              "      <th>237397</th>\n",
              "      <td>West Bengal</td>\n",
              "      <td>2012</td>\n",
              "      <td>Means_adopted</td>\n",
              "      <td>By Fire/Self Immolation</td>\n",
              "      <td>Male</td>\n",
              "      <td>60+</td>\n",
              "      <td>21</td>\n",
              "    </tr>\n",
              "  </tbody>\n",
              "</table>\n",
              "<p>80040 rows × 7 columns</p>\n",
              "</div>\n",
              "      <button class=\"colab-df-convert\" onclick=\"convertToInteractive('df-9724acca-ab2b-4ae0-9f59-53b8d8cbf674')\"\n",
              "              title=\"Convert this dataframe to an interactive table.\"\n",
              "              style=\"display:none;\">\n",
              "        \n",
              "  <svg xmlns=\"http://www.w3.org/2000/svg\" height=\"24px\"viewBox=\"0 0 24 24\"\n",
              "       width=\"24px\">\n",
              "    <path d=\"M0 0h24v24H0V0z\" fill=\"none\"/>\n",
              "    <path d=\"M18.56 5.44l.94 2.06.94-2.06 2.06-.94-2.06-.94-.94-2.06-.94 2.06-2.06.94zm-11 1L8.5 8.5l.94-2.06 2.06-.94-2.06-.94L8.5 2.5l-.94 2.06-2.06.94zm10 10l.94 2.06.94-2.06 2.06-.94-2.06-.94-.94-2.06-.94 2.06-2.06.94z\"/><path d=\"M17.41 7.96l-1.37-1.37c-.4-.4-.92-.59-1.43-.59-.52 0-1.04.2-1.43.59L10.3 9.45l-7.72 7.72c-.78.78-.78 2.05 0 2.83L4 21.41c.39.39.9.59 1.41.59.51 0 1.02-.2 1.41-.59l7.78-7.78 2.81-2.81c.8-.78.8-2.07 0-2.86zM5.41 20L4 18.59l7.72-7.72 1.47 1.35L5.41 20z\"/>\n",
              "  </svg>\n",
              "      </button>\n",
              "      \n",
              "  <style>\n",
              "    .colab-df-container {\n",
              "      display:flex;\n",
              "      flex-wrap:wrap;\n",
              "      gap: 12px;\n",
              "    }\n",
              "\n",
              "    .colab-df-convert {\n",
              "      background-color: #E8F0FE;\n",
              "      border: none;\n",
              "      border-radius: 50%;\n",
              "      cursor: pointer;\n",
              "      display: none;\n",
              "      fill: #1967D2;\n",
              "      height: 32px;\n",
              "      padding: 0 0 0 0;\n",
              "      width: 32px;\n",
              "    }\n",
              "\n",
              "    .colab-df-convert:hover {\n",
              "      background-color: #E2EBFA;\n",
              "      box-shadow: 0px 1px 2px rgba(60, 64, 67, 0.3), 0px 1px 3px 1px rgba(60, 64, 67, 0.15);\n",
              "      fill: #174EA6;\n",
              "    }\n",
              "\n",
              "    [theme=dark] .colab-df-convert {\n",
              "      background-color: #3B4455;\n",
              "      fill: #D2E3FC;\n",
              "    }\n",
              "\n",
              "    [theme=dark] .colab-df-convert:hover {\n",
              "      background-color: #434B5C;\n",
              "      box-shadow: 0px 1px 3px 1px rgba(0, 0, 0, 0.15);\n",
              "      filter: drop-shadow(0px 1px 2px rgba(0, 0, 0, 0.3));\n",
              "      fill: #FFFFFF;\n",
              "    }\n",
              "  </style>\n",
              "\n",
              "      <script>\n",
              "        const buttonEl =\n",
              "          document.querySelector('#df-9724acca-ab2b-4ae0-9f59-53b8d8cbf674 button.colab-df-convert');\n",
              "        buttonEl.style.display =\n",
              "          google.colab.kernel.accessAllowed ? 'block' : 'none';\n",
              "\n",
              "        async function convertToInteractive(key) {\n",
              "          const element = document.querySelector('#df-9724acca-ab2b-4ae0-9f59-53b8d8cbf674');\n",
              "          const dataTable =\n",
              "            await google.colab.kernel.invokeFunction('convertToInteractive',\n",
              "                                                     [key], {});\n",
              "          if (!dataTable) return;\n",
              "\n",
              "          const docLinkHtml = 'Like what you see? Visit the ' +\n",
              "            '<a target=\"_blank\" href=https://colab.research.google.com/notebooks/data_table.ipynb>data table notebook</a>'\n",
              "            + ' to learn more about interactive tables.';\n",
              "          element.innerHTML = '';\n",
              "          dataTable['output_type'] = 'display_data';\n",
              "          await google.colab.output.renderOutput(dataTable, element);\n",
              "          const docLink = document.createElement('div');\n",
              "          docLink.innerHTML = docLinkHtml;\n",
              "          element.appendChild(docLink);\n",
              "        }\n",
              "      </script>\n",
              "    </div>\n",
              "  </div>\n",
              "  "
            ]
          },
          "metadata": {},
          "execution_count": 80
        }
      ],
      "source": [
        "df_wa = df[df['Age_group']!='0-100+']\n",
        "df_wa"
      ]
    },
    {
      "cell_type": "code",
      "execution_count": null,
      "metadata": {
        "colab": {
          "base_uri": "https://localhost:8080/",
          "height": 297
        },
        "id": "wZYHyOD9FzU1",
        "outputId": "bfaa367f-0d36-49ab-8bdc-63ce247a575b"
      },
      "outputs": [
        {
          "output_type": "execute_result",
          "data": {
            "text/plain": [
              "<matplotlib.axes._subplots.AxesSubplot at 0x7faf062e9cd0>"
            ]
          },
          "metadata": {},
          "execution_count": 81
        },
        {
          "output_type": "display_data",
          "data": {
            "text/plain": [
              "<Figure size 432x288 with 1 Axes>"
            ],
            "image/png": "[encoded data removed]"
          },
          "metadata": {
            "needs_background": "light"
          }
        }
      ],
      "source": [
        "df.groupby(\"Year\")[\"Total\"].sum().plot(kind=\"line\")"
      ]
    },
    {
      "cell_type": "code",
      "execution_count": null,
      "metadata": {
        "colab": {
          "base_uri": "https://localhost:8080/"
        },
        "id": "4HSiL6V-F8A1",
        "outputId": "a0937098-5720-49e4-f9d4-8c1607267a03"
      },
      "outputs": [
        {
          "output_type": "execute_result",
          "data": {
            "text/plain": [
              "Andhra Pradesh       4696\n",
              "Karnataka            4625\n",
              "Tamil Nadu           4582\n",
              "Madhya Pradesh       4539\n",
              "Maharashtra          4488\n",
              "Uttar Pradesh        4472\n",
              "Gujarat              4374\n",
              "West Bengal          4152\n",
              "Kerala               4034\n",
              "Chhattisgarh         3881\n",
              "Rajasthan            3840\n",
              "Odisha               3690\n",
              "Assam                3393\n",
              "Haryana              3356\n",
              "Delhi (Ut)           2890\n",
              "Jharkhand            2781\n",
              "Bihar                2672\n",
              "Punjab               2607\n",
              "Himachal Pradesh     2252\n",
              "Uttarakhand          2116\n",
              "Tripura              2043\n",
              "Goa                  1902\n",
              "Puducherry           1873\n",
              "Jammu & Kashmir      1824\n",
              "Sikkim               1189\n",
              "A & N Islands        1090\n",
              "Meghalaya             953\n",
              "Chandigarh            945\n",
              "Arunachal Pradesh     879\n",
              "D & N Haveli          824\n",
              "Mizoram               584\n",
              "Manipur               491\n",
              "Nagaland              456\n",
              "Daman & Diu           456\n",
              "Lakshadweep            42\n",
              "Name: State, dtype: int64"
            ]
          },
          "metadata": {},
          "execution_count": 82
        }
      ],
      "source": [
        "df = df[(df[\"State\"]!=\"Total (States)\")&(df[\"State\"]!=\"Total (Uts)\")&(df[\"State\"]!=\"Total (All India)\") ]\n",
        "df[\"State\"].value_counts()"
      ]
    },
    {
      "cell_type": "markdown",
      "metadata": {
        "id": "f891V4uqmqgl"
      },
      "source": [
        "## Analyzing Data \n",
        "#### State wise \n"
      ]
    },
    {
      "cell_type": "code",
      "execution_count": null,
      "metadata": {
        "colab": {
          "base_uri": "https://localhost:8080/",
          "height": 517
        },
        "id": "o629CQ1PmyFN",
        "outputId": "6aaa2f0c-570a-4c8f-c0a1-4935b97822d0"
      },
      "outputs": [
        {
          "output_type": "execute_result",
          "data": {
            "text/plain": [
              "Text(0.5, 1.0, 'Suicide stat State-wise')"
            ]
          },
          "metadata": {},
          "execution_count": 83
        },
        {
          "output_type": "display_data",
          "data": {
            "text/plain": [
              "<Figure size 1152x576 with 1 Axes>"
            ],
            "image/png": "[encoded data removed]"
          },
          "metadata": {
            "needs_background": "light"
          }
        }
      ],
      "source": [
        "plt.figure(figsize=(16,8))\n",
        "df_st = df.groupby('State').sum().Total.sort_values(ascending=False)\n",
        "sns.barplot(y=df_st.index,x=df_st.values,orient='h')\n",
        "plt.ylabel('State')\n",
        "plt.title('Suicide stat State-wise')"
      ]
    },
    {
      "cell_type": "markdown",
      "metadata": {
        "id": "_jlWDeD79Pox"
      },
      "source": [
        "It can be observed from the above graph that the top states are Maharashtra, West Bengal, Tamil Nadu, Andhra Pradesh and Karnataka."
      ]
    },
    {
      "cell_type": "markdown",
      "metadata": {
        "id": "O_Vw9nL39Tvx"
      },
      "source": [
        "Building a table to show the number of suicides in every state yearwise."
      ]
    },
    {
      "cell_type": "code",
      "execution_count": null,
      "metadata": {
        "colab": {
          "base_uri": "https://localhost:8080/",
          "height": 488
        },
        "id": "TaHW7DoN9f1t",
        "outputId": "b6f08063-3a21-4eeb-d668-93d513adce29"
      },
      "outputs": [
        {
          "output_type": "execute_result",
          "data": {
            "text/plain": [
              "                 Total                                                  \\\n",
              "Year              2001    2002    2003    2004    2005    2006    2007   \n",
              "State                                                                    \n",
              "Tamil Nadu      4996.3  4946.2  5343.5  5752.7  5342.0  5453.0  6072.7   \n",
              "Andhra Pradesh  4677.5  5097.1  5033.9  5958.9  5874.0  5832.9  6447.5   \n",
              "Karnataka       5157.6  5159.5  5188.8  4932.9  4741.9  4987.8  5081.4   \n",
              "Kerala          4216.1  4327.6  4054.0  3865.6  3987.5  4006.9  3994.3   \n",
              "Madhya Pradesh  2998.8  3090.8  3044.7  3040.4  2411.8  2830.9  2777.7   \n",
              "Gujarat         2247.5  2138.0  2082.1  2161.2  2161.4  2263.4  2509.7   \n",
              "Chhattisgarh    1704.3  1595.3  1585.2  1828.2  2025.2  1892.7  1999.9   \n",
              "Odisha          1688.7  1734.1  1817.0  1717.1  1719.7  1627.4  1749.9   \n",
              "Rajasthan       1370.4  1355.7  1579.4  1586.8  1693.8  1723.0  1817.1   \n",
              "Uttar Pradesh   1613.1  1809.5  1634.6  1597.9  1527.0  1352.9  1699.2   \n",
              "Assam           1133.5  1063.5  1076.5  1222.4  1206.4  1295.3  1272.8   \n",
              "Haryana          841.3   864.6   939.7   858.7   835.3   982.3  1023.5   \n",
              "\n",
              "                                                        \n",
              "Year              2008    2009    2010    2011    2012  \n",
              "State                                                   \n",
              "Tamil Nadu      6398.8  6306.5  7209.0  6808.1  6999.3  \n",
              "Andhra Pradesh  6298.6  6445.8  6896.5  6589.1  6279.1  \n",
              "Karnataka       5008.3  5052.4  5342.8  5340.0  5405.2  \n",
              "Kerala          3807.7  3903.0  3822.0  3648.1  3729.1  \n",
              "Madhya Pradesh  3423.6  3888.3  3883.3  4029.7  4334.6  \n",
              "Gujarat         2759.8  2807.6  2728.9  2835.9  3114.6  \n",
              "Chhattisgarh    2120.3  2425.7  2578.2  2555.5  2137.1  \n",
              "Odisha          1983.6  1761.5  1733.6  2108.6  2059.0  \n",
              "Rajasthan       2114.0  2120.5  2004.2  1783.0  1953.9  \n",
              "Uttar Pradesh   1797.6  1817.3  1628.7  2118.3  2000.4  \n",
              "Assam           1252.9  1266.8  1281.1  1180.5  1372.7  \n",
              "Haryana         1060.3  1038.9  1154.5  1275.4  1124.7  "
            ],
            "text/html": [
              "\n",
              "  <div id=\"df-fd784c4d-7b50-4c43-8325-64faff80471e\">\n",
              "    <div class=\"colab-df-container\">\n",
              "      <div>\n",
              "<style scoped>\n",
              "    .dataframe tbody tr th:only-of-type {\n",
              "        vertical-align: middle;\n",
              "    }\n",
              "\n",
              "    .dataframe tbody tr th {\n",
              "        vertical-align: top;\n",
              "    }\n",
              "\n",
              "    .dataframe thead tr th {\n",
              "        text-align: left;\n",
              "    }\n",
              "\n",
              "    .dataframe thead tr:last-of-type th {\n",
              "        text-align: right;\n",
              "    }\n",
              "</style>\n",
              "<table border=\"1\" class=\"dataframe\">\n",
              "  <thead>\n",
              "    <tr>\n",
              "      <th></th>\n",
              "      <th colspan=\"12\" halign=\"left\">Total</th>\n",
              "    </tr>\n",
              "    <tr>\n",
              "      <th>Year</th>\n",
              "      <th>2001</th>\n",
              "      <th>2002</th>\n",
              "      <th>2003</th>\n",
              "      <th>2004</th>\n",
              "      <th>2005</th>\n",
              "      <th>2006</th>\n",
              "      <th>2007</th>\n",
              "      <th>2008</th>\n",
              "      <th>2009</th>\n",
              "      <th>2010</th>\n",
              "      <th>2011</th>\n",
              "      <th>2012</th>\n",
              "    </tr>\n",
              "    <tr>\n",
              "      <th>State</th>\n",
              "      <th></th>\n",
              "      <th></th>\n",
              "      <th></th>\n",
              "      <th></th>\n",
              "      <th></th>\n",
              "      <th></th>\n",
              "      <th></th>\n",
              "      <th></th>\n",
              "      <th></th>\n",
              "      <th></th>\n",
              "      <th></th>\n",
              "      <th></th>\n",
              "    </tr>\n",
              "  </thead>\n",
              "  <tbody>\n",
              "    <tr>\n",
              "      <th>Tamil Nadu</th>\n",
              "      <td>4996.3</td>\n",
              "      <td>4946.2</td>\n",
              "      <td>5343.5</td>\n",
              "      <td>5752.7</td>\n",
              "      <td>5342.0</td>\n",
              "      <td>5453.0</td>\n",
              "      <td>6072.7</td>\n",
              "      <td>6398.8</td>\n",
              "      <td>6306.5</td>\n",
              "      <td>7209.0</td>\n",
              "      <td>6808.1</td>\n",
              "      <td>6999.3</td>\n",
              "    </tr>\n",
              "    <tr>\n",
              "      <th>Andhra Pradesh</th>\n",
              "      <td>4677.5</td>\n",
              "      <td>5097.1</td>\n",
              "      <td>5033.9</td>\n",
              "      <td>5958.9</td>\n",
              "      <td>5874.0</td>\n",
              "      <td>5832.9</td>\n",
              "      <td>6447.5</td>\n",
              "      <td>6298.6</td>\n",
              "      <td>6445.8</td>\n",
              "      <td>6896.5</td>\n",
              "      <td>6589.1</td>\n",
              "      <td>6279.1</td>\n",
              "    </tr>\n",
              "    <tr>\n",
              "      <th>Karnataka</th>\n",
              "      <td>5157.6</td>\n",
              "      <td>5159.5</td>\n",
              "      <td>5188.8</td>\n",
              "      <td>4932.9</td>\n",
              "      <td>4741.9</td>\n",
              "      <td>4987.8</td>\n",
              "      <td>5081.4</td>\n",
              "      <td>5008.3</td>\n",
              "      <td>5052.4</td>\n",
              "      <td>5342.8</td>\n",
              "      <td>5340.0</td>\n",
              "      <td>5405.2</td>\n",
              "    </tr>\n",
              "    <tr>\n",
              "      <th>Kerala</th>\n",
              "      <td>4216.1</td>\n",
              "      <td>4327.6</td>\n",
              "      <td>4054.0</td>\n",
              "      <td>3865.6</td>\n",
              "      <td>3987.5</td>\n",
              "      <td>4006.9</td>\n",
              "      <td>3994.3</td>\n",
              "      <td>3807.7</td>\n",
              "      <td>3903.0</td>\n",
              "      <td>3822.0</td>\n",
              "      <td>3648.1</td>\n",
              "      <td>3729.1</td>\n",
              "    </tr>\n",
              "    <tr>\n",
              "      <th>Madhya Pradesh</th>\n",
              "      <td>2998.8</td>\n",
              "      <td>3090.8</td>\n",
              "      <td>3044.7</td>\n",
              "      <td>3040.4</td>\n",
              "      <td>2411.8</td>\n",
              "      <td>2830.9</td>\n",
              "      <td>2777.7</td>\n",
              "      <td>3423.6</td>\n",
              "      <td>3888.3</td>\n",
              "      <td>3883.3</td>\n",
              "      <td>4029.7</td>\n",
              "      <td>4334.6</td>\n",
              "    </tr>\n",
              "    <tr>\n",
              "      <th>Gujarat</th>\n",
              "      <td>2247.5</td>\n",
              "      <td>2138.0</td>\n",
              "      <td>2082.1</td>\n",
              "      <td>2161.2</td>\n",
              "      <td>2161.4</td>\n",
              "      <td>2263.4</td>\n",
              "      <td>2509.7</td>\n",
              "      <td>2759.8</td>\n",
              "      <td>2807.6</td>\n",
              "      <td>2728.9</td>\n",
              "      <td>2835.9</td>\n",
              "      <td>3114.6</td>\n",
              "    </tr>\n",
              "    <tr>\n",
              "      <th>Chhattisgarh</th>\n",
              "      <td>1704.3</td>\n",
              "      <td>1595.3</td>\n",
              "      <td>1585.2</td>\n",
              "      <td>1828.2</td>\n",
              "      <td>2025.2</td>\n",
              "      <td>1892.7</td>\n",
              "      <td>1999.9</td>\n",
              "      <td>2120.3</td>\n",
              "      <td>2425.7</td>\n",
              "      <td>2578.2</td>\n",
              "      <td>2555.5</td>\n",
              "      <td>2137.1</td>\n",
              "    </tr>\n",
              "    <tr>\n",
              "      <th>Odisha</th>\n",
              "      <td>1688.7</td>\n",
              "      <td>1734.1</td>\n",
              "      <td>1817.0</td>\n",
              "      <td>1717.1</td>\n",
              "      <td>1719.7</td>\n",
              "      <td>1627.4</td>\n",
              "      <td>1749.9</td>\n",
              "      <td>1983.6</td>\n",
              "      <td>1761.5</td>\n",
              "      <td>1733.6</td>\n",
              "      <td>2108.6</td>\n",
              "      <td>2059.0</td>\n",
              "    </tr>\n",
              "    <tr>\n",
              "      <th>Rajasthan</th>\n",
              "      <td>1370.4</td>\n",
              "      <td>1355.7</td>\n",
              "      <td>1579.4</td>\n",
              "      <td>1586.8</td>\n",
              "      <td>1693.8</td>\n",
              "      <td>1723.0</td>\n",
              "      <td>1817.1</td>\n",
              "      <td>2114.0</td>\n",
              "      <td>2120.5</td>\n",
              "      <td>2004.2</td>\n",
              "      <td>1783.0</td>\n",
              "      <td>1953.9</td>\n",
              "    </tr>\n",
              "    <tr>\n",
              "      <th>Uttar Pradesh</th>\n",
              "      <td>1613.1</td>\n",
              "      <td>1809.5</td>\n",
              "      <td>1634.6</td>\n",
              "      <td>1597.9</td>\n",
              "      <td>1527.0</td>\n",
              "      <td>1352.9</td>\n",
              "      <td>1699.2</td>\n",
              "      <td>1797.6</td>\n",
              "      <td>1817.3</td>\n",
              "      <td>1628.7</td>\n",
              "      <td>2118.3</td>\n",
              "      <td>2000.4</td>\n",
              "    </tr>\n",
              "    <tr>\n",
              "      <th>Assam</th>\n",
              "      <td>1133.5</td>\n",
              "      <td>1063.5</td>\n",
              "      <td>1076.5</td>\n",
              "      <td>1222.4</td>\n",
              "      <td>1206.4</td>\n",
              "      <td>1295.3</td>\n",
              "      <td>1272.8</td>\n",
              "      <td>1252.9</td>\n",
              "      <td>1266.8</td>\n",
              "      <td>1281.1</td>\n",
              "      <td>1180.5</td>\n",
              "      <td>1372.7</td>\n",
              "    </tr>\n",
              "    <tr>\n",
              "      <th>Haryana</th>\n",
              "      <td>841.3</td>\n",
              "      <td>864.6</td>\n",
              "      <td>939.7</td>\n",
              "      <td>858.7</td>\n",
              "      <td>835.3</td>\n",
              "      <td>982.3</td>\n",
              "      <td>1023.5</td>\n",
              "      <td>1060.3</td>\n",
              "      <td>1038.9</td>\n",
              "      <td>1154.5</td>\n",
              "      <td>1275.4</td>\n",
              "      <td>1124.7</td>\n",
              "    </tr>\n",
              "  </tbody>\n",
              "</table>\n",
              "</div>\n",
              "      <button class=\"colab-df-convert\" onclick=\"convertToInteractive('df-fd784c4d-7b50-4c43-8325-64faff80471e')\"\n",
              "              title=\"Convert this dataframe to an interactive table.\"\n",
              "              style=\"display:none;\">\n",
              "        \n",
              "  <svg xmlns=\"http://www.w3.org/2000/svg\" height=\"24px\"viewBox=\"0 0 24 24\"\n",
              "       width=\"24px\">\n",
              "    <path d=\"M0 0h24v24H0V0z\" fill=\"none\"/>\n",
              "    <path d=\"M18.56 5.44l.94 2.06.94-2.06 2.06-.94-2.06-.94-.94-2.06-.94 2.06-2.06.94zm-11 1L8.5 8.5l.94-2.06 2.06-.94-2.06-.94L8.5 2.5l-.94 2.06-2.06.94zm10 10l.94 2.06.94-2.06 2.06-.94-2.06-.94-.94-2.06-.94 2.06-2.06.94z\"/><path d=\"M17.41 7.96l-1.37-1.37c-.4-.4-.92-.59-1.43-.59-.52 0-1.04.2-1.43.59L10.3 9.45l-7.72 7.72c-.78.78-.78 2.05 0 2.83L4 21.41c.39.39.9.59 1.41.59.51 0 1.02-.2 1.41-.59l7.78-7.78 2.81-2.81c.8-.78.8-2.07 0-2.86zM5.41 20L4 18.59l7.72-7.72 1.47 1.35L5.41 20z\"/>\n",
              "  </svg>\n",
              "      </button>\n",
              "      \n",
              "  <style>\n",
              "    .colab-df-container {\n",
              "      display:flex;\n",
              "      flex-wrap:wrap;\n",
              "      gap: 12px;\n",
              "    }\n",
              "\n",
              "    .colab-df-convert {\n",
              "      background-color: #E8F0FE;\n",
              "      border: none;\n",
              "      border-radius: 50%;\n",
              "      cursor: pointer;\n",
              "      display: none;\n",
              "      fill: #1967D2;\n",
              "      height: 32px;\n",
              "      padding: 0 0 0 0;\n",
              "      width: 32px;\n",
              "    }\n",
              "\n",
              "    .colab-df-convert:hover {\n",
              "      background-color: #E2EBFA;\n",
              "      box-shadow: 0px 1px 2px rgba(60, 64, 67, 0.3), 0px 1px 3px 1px rgba(60, 64, 67, 0.15);\n",
              "      fill: #174EA6;\n",
              "    }\n",
              "\n",
              "    [theme=dark] .colab-df-convert {\n",
              "      background-color: #3B4455;\n",
              "      fill: #D2E3FC;\n",
              "    }\n",
              "\n",
              "    [theme=dark] .colab-df-convert:hover {\n",
              "      background-color: #434B5C;\n",
              "      box-shadow: 0px 1px 3px 1px rgba(0, 0, 0, 0.15);\n",
              "      filter: drop-shadow(0px 1px 2px rgba(0, 0, 0, 0.3));\n",
              "      fill: #FFFFFF;\n",
              "    }\n",
              "  </style>\n",
              "\n",
              "      <script>\n",
              "        const buttonEl =\n",
              "          document.querySelector('#df-fd784c4d-7b50-4c43-8325-64faff80471e button.colab-df-convert');\n",
              "        buttonEl.style.display =\n",
              "          google.colab.kernel.accessAllowed ? 'block' : 'none';\n",
              "\n",
              "        async function convertToInteractive(key) {\n",
              "          const element = document.querySelector('#df-fd784c4d-7b50-4c43-8325-64faff80471e');\n",
              "          const dataTable =\n",
              "            await google.colab.kernel.invokeFunction('convertToInteractive',\n",
              "                                                     [key], {});\n",
              "          if (!dataTable) return;\n",
              "\n",
              "          const docLinkHtml = 'Like what you see? Visit the ' +\n",
              "            '<a target=\"_blank\" href=https://colab.research.google.com/notebooks/data_table.ipynb>data table notebook</a>'\n",
              "            + ' to learn more about interactive tables.';\n",
              "          element.innerHTML = '';\n",
              "          dataTable['output_type'] = 'display_data';\n",
              "          await google.colab.output.renderOutput(dataTable, element);\n",
              "          const docLink = document.createElement('div');\n",
              "          docLink.innerHTML = docLinkHtml;\n",
              "          element.appendChild(docLink);\n",
              "        }\n",
              "      </script>\n",
              "    </div>\n",
              "  </div>\n",
              "  "
            ]
          },
          "metadata": {},
          "execution_count": 84
        }
      ],
      "source": [
        "x = df.groupby(['State','Year'])['Total'].sum()\n",
        "y = pd.DataFrame(x).reset_index()\n",
        "y = y.pivot(index='State',columns='Year')\n",
        "y['sum'] = y.sum(axis=1)\n",
        "yearly_total = y.sum(axis=0)\n",
        "y = y.sort_values('sum',ascending=False)\n",
        "y = y[2:14]\n",
        "y = y/10\n",
        "y = y.drop('sum',axis=1)\n",
        "y"
      ]
    },
    {
      "cell_type": "markdown",
      "metadata": {
        "id": "vzjbDkff9kUg"
      },
      "source": [
        "Now plotting the heatmap to analyze the trends in the top states in each year."
      ]
    },
    {
      "cell_type": "code",
      "execution_count": null,
      "metadata": {
        "colab": {
          "base_uri": "https://localhost:8080/",
          "height": 518
        },
        "id": "B3_iCeGG9mRX",
        "outputId": "9169189a-f660-49c4-db60-a31c7c1229c5"
      },
      "outputs": [
        {
          "output_type": "execute_result",
          "data": {
            "text/plain": [
              "<matplotlib.axes._subplots.AxesSubplot at 0x7faf06448750>"
            ]
          },
          "metadata": {},
          "execution_count": 85
        },
        {
          "output_type": "display_data",
          "data": {
            "text/plain": [
              "<Figure size 576x576 with 2 Axes>"
            ],
            "image/png": "[encoded data removed]"
          },
          "metadata": {
            "needs_background": "light"
          }
        }
      ],
      "source": [
        "plt.figure(figsize=(8,8))\n",
        "sns.heatmap(y,linewidth=1,cmap='OrRd',square=True)"
      ]
    },
    {
      "cell_type": "markdown",
      "metadata": {
        "id": "knEYnyrJoonq"
      },
      "source": [
        "Age group wise\n"
      ]
    },
    {
      "cell_type": "code",
      "execution_count": null,
      "metadata": {
        "colab": {
          "base_uri": "https://localhost:8080/",
          "height": 532
        },
        "id": "9pZAkCcUmyNu",
        "outputId": "25abcc54-31f1-46c7-baae-28efbbdfc344"
      },
      "outputs": [
        {
          "output_type": "execute_result",
          "data": {
            "text/plain": [
              "Text(0.5, 1.0, 'Suicides per Age Group')"
            ]
          },
          "metadata": {},
          "execution_count": 86
        },
        {
          "output_type": "display_data",
          "data": {
            "text/plain": [
              "<Figure size 1008x576 with 1 Axes>"
            ],
            "image/png": "[encoded data removed]"
          },
          "metadata": {
            "needs_background": "light"
          }
        }
      ],
      "source": [
        "plt.figure(figsize=(14,8))\n",
        "df_ag = df_wa.groupby('Age_group').sum().Total\n",
        "sns.barplot(x=df_ag.index,y=df_ag.values)\n",
        "plt.xlabel('Age Group')\n",
        "plt.title('Suicides per Age Group')"
      ]
    },
    {
      "cell_type": "markdown",
      "metadata": {
        "id": "ZuWDWmOaoqZj"
      },
      "source": [
        "Max suicides are in age 15 to 44"
      ]
    },
    {
      "cell_type": "code",
      "execution_count": null,
      "metadata": {
        "colab": {
          "base_uri": "https://localhost:8080/",
          "height": 532
        },
        "id": "iMUh2QZxnNx7",
        "outputId": "0ddac528-a425-4577-de48-a519a64df694"
      },
      "outputs": [
        {
          "output_type": "execute_result",
          "data": {
            "text/plain": [
              "Text(0.5, 1.0, 'Suicides per Age Group')"
            ]
          },
          "metadata": {},
          "execution_count": 87
        },
        {
          "output_type": "display_data",
          "data": {
            "text/plain": [
              "<Figure size 1008x576 with 1 Axes>"
            ],
            "image/png": "[encoded data removed]"
          },
          "metadata": {
            "needs_background": "light"
          }
        }
      ],
      "source": [
        "plt.figure(figsize=(14,8))\n",
        "sns.barplot(x=df_wa.Age_group,y=df_wa.Total,hue=df.Gender)\n",
        "plt.xlabel('Age Group')\n",
        "plt.title('Suicides per Age Group')"
      ]
    },
    {
      "cell_type": "markdown",
      "metadata": {
        "id": "W52SSTQVo2f7"
      },
      "source": [
        "Suicide in males is more than females in almost every age group.\n"
      ]
    },
    {
      "cell_type": "markdown",
      "metadata": {
        "id": "E7RPGfamovGu"
      },
      "source": [
        "Year Wise"
      ]
    },
    {
      "cell_type": "code",
      "execution_count": null,
      "metadata": {
        "colab": {
          "base_uri": "https://localhost:8080/",
          "height": 532
        },
        "id": "5imX-PHJnR_2",
        "outputId": "5206a873-cdf9-4b64-f496-61b798947cac"
      },
      "outputs": [
        {
          "output_type": "execute_result",
          "data": {
            "text/plain": [
              "Text(0.5, 1.0, 'Suicides per Year')"
            ]
          },
          "metadata": {},
          "execution_count": 88
        },
        {
          "output_type": "display_data",
          "data": {
            "text/plain": [
              "<Figure size 1008x576 with 1 Axes>"
            ],
            "image/png": "[encoded data removed]"
          },
          "metadata": {
            "needs_background": "light"
          }
        }
      ],
      "source": [
        "plt.figure(figsize=(14,8))\n",
        "df_yr = df.groupby('Year').sum().Total\n",
        "sns.lineplot(x=df_yr.index,y=df_yr.values,marker='o',markerfacecolor='k')\n",
        "plt.xlabel('Year')\n",
        "plt.title('Suicides per Year')"
      ]
    },
    {
      "cell_type": "markdown",
      "metadata": {
        "id": "kD0axEO2yLGi"
      },
      "source": [
        "We can see that there is a significant slope in the graph from the years 2005-2006 and further in the years 2009-2010."
      ]
    },
    {
      "cell_type": "markdown",
      "metadata": {
        "id": "wuomi2Pv9vlM"
      },
      "source": [
        "Now, we will try and explore and visualize the different factors - We will be exploring 5 categories : \n",
        "\n",
        "\n",
        "1.   Causes\n",
        "2.   Means Adopted\n",
        "1.   Professional Profile\n",
        "2.   Educational Status\n",
        "1.  Social Status"
      ]
    },
    {
      "cell_type": "markdown",
      "metadata": {
        "id": "yQm045GknZ3s"
      },
      "source": [
        "Type Wise"
      ]
    },
    {
      "cell_type": "code",
      "execution_count": null,
      "metadata": {
        "colab": {
          "base_uri": "https://localhost:8080/",
          "height": 532
        },
        "id": "B_zf5kTYnVrx",
        "outputId": "ce3567d6-69fd-414e-e7c6-931306261b27"
      },
      "outputs": [
        {
          "output_type": "execute_result",
          "data": {
            "text/plain": [
              "Text(0.5, 1.0, 'Suicide vs State')"
            ]
          },
          "metadata": {},
          "execution_count": 89
        },
        {
          "output_type": "display_data",
          "data": {
            "text/plain": [
              "<Figure size 1008x576 with 1 Axes>"
            ],
            "image/png": "[encoded data removed]"
          },
          "metadata": {
            "needs_background": "light"
          }
        }
      ],
      "source": [
        "\n",
        "plt.figure(figsize=(14,8))\n",
        "df_tc = df.groupby('Type_code').sum().Total\n",
        "df_tc = df_tc.sort_values(ascending=False)\n",
        "sns.barplot(x=df_tc.index,y=df_tc.values)\n",
        "plt.xlabel('State')\n",
        "plt.title('Suicide vs State')"
      ]
    },
    {
      "cell_type": "markdown",
      "metadata": {
        "id": "PvlPfijHnzG1"
      },
      "source": [
        "1. Social status"
      ]
    },
    {
      "cell_type": "code",
      "execution_count": null,
      "metadata": {
        "colab": {
          "base_uri": "https://localhost:8080/",
          "height": 532
        },
        "id": "z6hTaOmSnviD",
        "outputId": "e5d71170-3245-46a4-8934-123c023665b4"
      },
      "outputs": [
        {
          "output_type": "execute_result",
          "data": {
            "text/plain": [
              "Text(0.5, 1.0, 'Suicide vs Social Status')"
            ]
          },
          "metadata": {},
          "execution_count": 90
        },
        {
          "output_type": "display_data",
          "data": {
            "text/plain": [
              "<Figure size 1008x576 with 1 Axes>"
            ],
            "image/png": "[encoded data removed]"
          },
          "metadata": {
            "needs_background": "light"
          }
        }
      ],
      "source": [
        "df_ss=df[df['Type_code']=='Social_Status']\n",
        "df_ss_tp = df_ss.groupby('Type').sum().Total\n",
        "df_ss_tp = df_ss_tp.sort_values(ascending=False)\n",
        "plt.figure(figsize=(14,8))\n",
        "sns.barplot(x=df_ss_tp.index,y=df_ss_tp.values)\n",
        "plt.xlabel('Type of Social Status')\n",
        "plt.title('Suicide vs Social Status')"
      ]
    },
    {
      "cell_type": "markdown",
      "metadata": {
        "id": "HwuFe4m3vaol"
      },
      "source": [
        "The above graph shows the marital status of the people who committed suicide."
      ]
    },
    {
      "cell_type": "markdown",
      "metadata": {
        "id": "IavihJZ4n47v"
      },
      "source": [
        "2. Professional profile"
      ]
    },
    {
      "cell_type": "code",
      "execution_count": null,
      "metadata": {
        "colab": {
          "base_uri": "https://localhost:8080/",
          "height": 422
        },
        "id": "W_vL3qU6n1RV",
        "outputId": "340937b3-08d1-4269-806b-99a318a9d9d7"
      },
      "outputs": [
        {
          "output_type": "execute_result",
          "data": {
            "text/plain": [
              "Text(0.5, 1.0, 'Suicide vs Professional Profile')"
            ]
          },
          "metadata": {},
          "execution_count": 91
        },
        {
          "output_type": "display_data",
          "data": {
            "text/plain": [
              "<Figure size 864x432 with 1 Axes>"
            ],
            "image/png": "[encoded data removed]"
          },
          "metadata": {
            "needs_background": "light"
          }
        }
      ],
      "source": [
        "df_pp=df[df['Type_code']=='Professional_Profile']\n",
        "df_pp_tp = df_pp.groupby('Type').sum().Total\n",
        "df_pp_tp = df_pp_tp.sort_values(ascending=True)\n",
        "plt.figure(figsize=(12,6))\n",
        "sns.barplot(y=df_pp_tp.index,x=df_pp_tp.values,orient='h')\n",
        "plt.xlabel('Professional Profile')\n",
        "plt.title('Suicide vs Professional Profile')"
      ]
    },
    {
      "cell_type": "markdown",
      "metadata": {
        "id": "ROEqjDEavkaY"
      },
      "source": [
        "From this graph, we can observe which occupation people are committing more number of suicides. "
      ]
    },
    {
      "cell_type": "code",
      "execution_count": null,
      "metadata": {
        "colab": {
          "base_uri": "https://localhost:8080/"
        },
        "id": "xOPyhv4bn1T8",
        "outputId": "16e1deaa-37a0-4944-bde8-e458a104698f"
      },
      "outputs": [
        {
          "output_type": "execute_result",
          "data": {
            "text/plain": [
              "State\n",
              "Maharashtra       42059\n",
              "West Bengal       36253\n",
              "Tamil Nadu        28165\n",
              "Andhra Pradesh    27634\n",
              "Madhya Pradesh    26724\n",
              "Name: Total, dtype: int64"
            ]
          },
          "metadata": {},
          "execution_count": 92
        }
      ],
      "source": [
        "df_pp_housewife = df_pp[df_pp['Type']=='House Wife']\n",
        "df_pp_housewife_s=df_pp_housewife.groupby('State').sum().Total.sort_values(ascending=False)\n",
        "df_pp_housewife_s[:5]"
      ]
    },
    {
      "cell_type": "code",
      "execution_count": null,
      "metadata": {
        "colab": {
          "base_uri": "https://localhost:8080/"
        },
        "id": "08qUiX4An1Xj",
        "outputId": "49871512-d7a4-4da7-d9c2-f955e336fdfa"
      },
      "outputs": [
        {
          "output_type": "execute_result",
          "data": {
            "text/plain": [
              "State\n",
              "Maharashtra       44769\n",
              "Andhra Pradesh    26587\n",
              "Karnataka         25803\n",
              "Madhya Pradesh    16190\n",
              "Chhattisgarh      14344\n",
              "Name: Total, dtype: int64"
            ]
          },
          "metadata": {},
          "execution_count": 93
        }
      ],
      "source": [
        "df_pp_farmer = df_pp[df_pp['Type']=='Farming/Agriculture Activity']\n",
        "df_pp_farmer_s=df_pp_farmer.groupby('State').sum().Total.sort_values(ascending=False)\n",
        "df_pp_farmer_s[:5]"
      ]
    },
    {
      "cell_type": "markdown",
      "metadata": {
        "id": "aEd8z51uoEOC"
      },
      "source": [
        "3. Education Status"
      ]
    },
    {
      "cell_type": "code",
      "execution_count": null,
      "metadata": {
        "colab": {
          "base_uri": "https://localhost:8080/",
          "height": 422
        },
        "id": "1sbeb8rtoDEE",
        "outputId": "4d16c57b-1900-4128-d3fc-cd1acdf9da85"
      },
      "outputs": [
        {
          "output_type": "execute_result",
          "data": {
            "text/plain": [
              "Text(0.5, 1.0, 'Suicide vs Education Status')"
            ]
          },
          "metadata": {},
          "execution_count": 94
        },
        {
          "output_type": "display_data",
          "data": {
            "text/plain": [
              "<Figure size 864x432 with 1 Axes>"
            ],
            "image/png": "[encoded data removed]"
          },
          "metadata": {
            "needs_background": "light"
          }
        }
      ],
      "source": [
        "df_es=df[df['Type_code']=='Education_Status']\n",
        "df_es_tp = df_es.groupby('Type').sum().Total\n",
        "df_es_tp = df_es_tp.sort_values(ascending=True)\n",
        "plt.figure(figsize=(12,6))\n",
        "sns.barplot(y=df_es_tp.index,x=df_es_tp.values,orient='h')\n",
        "plt.xlabel('Education Status')\n",
        "plt.title('Suicide vs Education Status')"
      ]
    },
    {
      "cell_type": "markdown",
      "metadata": {
        "id": "JFKlLLXAwqfS"
      },
      "source": [
        "This graph gives inference about the educational qualification of the people who committed suicide."
      ]
    },
    {
      "cell_type": "markdown",
      "metadata": {
        "id": "7LiGIymUoKlT"
      },
      "source": [
        "4. Causes"
      ]
    },
    {
      "cell_type": "code",
      "execution_count": null,
      "metadata": {
        "colab": {
          "base_uri": "https://localhost:8080/",
          "height": 734
        },
        "id": "maOGRoQloDHj",
        "outputId": "550b1032-64b5-41cc-f7f0-1666ac36ab45"
      },
      "outputs": [
        {
          "output_type": "execute_result",
          "data": {
            "text/plain": [
              "Text(0.5, 1.0, 'Suicide vs Causes')"
            ]
          },
          "metadata": {},
          "execution_count": 95
        },
        {
          "output_type": "display_data",
          "data": {
            "text/plain": [
              "<Figure size 1080x864 with 1 Axes>"
            ],
            "image/png": "[encoded data removed]"
          },
          "metadata": {
            "needs_background": "light"
          }
        }
      ],
      "source": [
        "df_cs=df[df['Type_code']=='Causes']\n",
        "df_cs_tp = df_cs.groupby('Type').sum().Total\n",
        "df_cs_tp = df_cs_tp.sort_values(ascending=True)\n",
        "plt.figure(figsize=(15,12))\n",
        "sns.barplot(y=df_cs_tp.index,x=df_cs_tp.values,orient='h')\n",
        "plt.title('Suicide vs Causes')"
      ]
    },
    {
      "cell_type": "markdown",
      "metadata": {
        "id": "gJggx3PBw2px"
      },
      "source": [
        "From the above graph, we can clearly see the top reasons for suicide. Family problems appear to be the most frequent reason for suicide."
      ]
    },
    {
      "cell_type": "markdown",
      "metadata": {
        "id": "XB4BjSGOoWBo"
      },
      "source": [
        "5. Means adopted"
      ]
    },
    {
      "cell_type": "code",
      "execution_count": null,
      "metadata": {
        "colab": {
          "base_uri": "https://localhost:8080/",
          "height": 422
        },
        "id": "8wrLprafoUBY",
        "outputId": "3cbb16a4-3e0b-470d-87da-2ffcecb198c3"
      },
      "outputs": [
        {
          "output_type": "execute_result",
          "data": {
            "text/plain": [
              "Text(0.5, 1.0, 'Suicide vs Education Status')"
            ]
          },
          "metadata": {},
          "execution_count": 96
        },
        {
          "output_type": "display_data",
          "data": {
            "text/plain": [
              "<Figure size 1080x432 with 1 Axes>"
            ],
            "image/png": "[encoded data removed]"
          },
          "metadata": {
            "needs_background": "light"
          }
        }
      ],
      "source": [
        "df_ma=df[df['Type_code']=='Means_adopted']\n",
        "df_ma_tp = df_ma.groupby('Type').sum().Total\n",
        "df_ma_tp = df_ma_tp.sort_values(ascending=True)\n",
        "plt.figure(figsize=(15,6))\n",
        "sns.barplot(y=df_ma_tp.index,x=df_ma_tp.values,orient='h')\n",
        "plt.xlabel('Education Status')\n",
        "plt.title('Suicide vs Education Status')"
      ]
    },
    {
      "cell_type": "code",
      "execution_count": null,
      "metadata": {
        "colab": {
          "base_uri": "https://localhost:8080/",
          "height": 1000
        },
        "id": "E4wQEjkqoUE2",
        "outputId": "a9cf0369-3357-4b6b-879d-bff8acbe2940"
      },
      "outputs": [
        {
          "output_type": "execute_result",
          "data": {
            "text/plain": [
              "                                        cause   count\n",
              "0                                Love Affairs   45039\n",
              "1                     Other Prolonged Illness  194565\n",
              "2                      Failure in Examination   27005\n",
              "3                             Family Problems  341952\n",
              "4                     Insanity/Mental Illness   94229\n",
              "..                                        ...     ...\n",
              "59                         By Over Alcoholism   15973\n",
              "60                 By Jumping from (Building)    7871\n",
              "61               By Self Infliction of injury    5093\n",
              "62                                 By Machine    1661\n",
              "63  Not having Children (Barrenness/Impotency     766\n",
              "\n",
              "[64 rows x 2 columns]"
            ],
            "text/html": [
              "\n",
              "  <div id=\"df-3a9366fa-695c-4379-9af1-49191d189fb6\">\n",
              "    <div class=\"colab-df-container\">\n",
              "      <div>\n",
              "<style scoped>\n",
              "    .dataframe tbody tr th:only-of-type {\n",
              "        vertical-align: middle;\n",
              "    }\n",
              "\n",
              "    .dataframe tbody tr th {\n",
              "        vertical-align: top;\n",
              "    }\n",
              "\n",
              "    .dataframe thead th {\n",
              "        text-align: right;\n",
              "    }\n",
              "</style>\n",
              "<table border=\"1\" class=\"dataframe\">\n",
              "  <thead>\n",
              "    <tr style=\"text-align: right;\">\n",
              "      <th></th>\n",
              "      <th>cause</th>\n",
              "      <th>count</th>\n",
              "    </tr>\n",
              "  </thead>\n",
              "  <tbody>\n",
              "    <tr>\n",
              "      <th>0</th>\n",
              "      <td>Love Affairs</td>\n",
              "      <td>45039</td>\n",
              "    </tr>\n",
              "    <tr>\n",
              "      <th>1</th>\n",
              "      <td>Other Prolonged Illness</td>\n",
              "      <td>194565</td>\n",
              "    </tr>\n",
              "    <tr>\n",
              "      <th>2</th>\n",
              "      <td>Failure in Examination</td>\n",
              "      <td>27005</td>\n",
              "    </tr>\n",
              "    <tr>\n",
              "      <th>3</th>\n",
              "      <td>Family Problems</td>\n",
              "      <td>341952</td>\n",
              "    </tr>\n",
              "    <tr>\n",
              "      <th>4</th>\n",
              "      <td>Insanity/Mental Illness</td>\n",
              "      <td>94229</td>\n",
              "    </tr>\n",
              "    <tr>\n",
              "      <th>...</th>\n",
              "      <td>...</td>\n",
              "      <td>...</td>\n",
              "    </tr>\n",
              "    <tr>\n",
              "      <th>59</th>\n",
              "      <td>By Over Alcoholism</td>\n",
              "      <td>15973</td>\n",
              "    </tr>\n",
              "    <tr>\n",
              "      <th>60</th>\n",
              "      <td>By Jumping from (Building)</td>\n",
              "      <td>7871</td>\n",
              "    </tr>\n",
              "    <tr>\n",
              "      <th>61</th>\n",
              "      <td>By Self Infliction of injury</td>\n",
              "      <td>5093</td>\n",
              "    </tr>\n",
              "    <tr>\n",
              "      <th>62</th>\n",
              "      <td>By Machine</td>\n",
              "      <td>1661</td>\n",
              "    </tr>\n",
              "    <tr>\n",
              "      <th>63</th>\n",
              "      <td>Not having Children (Barrenness/Impotency</td>\n",
              "      <td>766</td>\n",
              "    </tr>\n",
              "  </tbody>\n",
              "</table>\n",
              "<p>64 rows × 2 columns</p>\n",
              "</div>\n",
              "      <button class=\"colab-df-convert\" onclick=\"convertToInteractive('df-3a9366fa-695c-4379-9af1-49191d189fb6')\"\n",
              "              title=\"Convert this dataframe to an interactive table.\"\n",
              "              style=\"display:none;\">\n",
              "        \n",
              "  <svg xmlns=\"http://www.w3.org/2000/svg\" height=\"24px\"viewBox=\"0 0 24 24\"\n",
              "       width=\"24px\">\n",
              "    <path d=\"M0 0h24v24H0V0z\" fill=\"none\"/>\n",
              "    <path d=\"M18.56 5.44l.94 2.06.94-2.06 2.06-.94-2.06-.94-.94-2.06-.94 2.06-2.06.94zm-11 1L8.5 8.5l.94-2.06 2.06-.94-2.06-.94L8.5 2.5l-.94 2.06-2.06.94zm10 10l.94 2.06.94-2.06 2.06-.94-2.06-.94-.94-2.06-.94 2.06-2.06.94z\"/><path d=\"M17.41 7.96l-1.37-1.37c-.4-.4-.92-.59-1.43-.59-.52 0-1.04.2-1.43.59L10.3 9.45l-7.72 7.72c-.78.78-.78 2.05 0 2.83L4 21.41c.39.39.9.59 1.41.59.51 0 1.02-.2 1.41-.59l7.78-7.78 2.81-2.81c.8-.78.8-2.07 0-2.86zM5.41 20L4 18.59l7.72-7.72 1.47 1.35L5.41 20z\"/>\n",
              "  </svg>\n",
              "      </button>\n",
              "      \n",
              "  <style>\n",
              "    .colab-df-container {\n",
              "      display:flex;\n",
              "      flex-wrap:wrap;\n",
              "      gap: 12px;\n",
              "    }\n",
              "\n",
              "    .colab-df-convert {\n",
              "      background-color: #E8F0FE;\n",
              "      border: none;\n",
              "      border-radius: 50%;\n",
              "      cursor: pointer;\n",
              "      display: none;\n",
              "      fill: #1967D2;\n",
              "      height: 32px;\n",
              "      padding: 0 0 0 0;\n",
              "      width: 32px;\n",
              "    }\n",
              "\n",
              "    .colab-df-convert:hover {\n",
              "      background-color: #E2EBFA;\n",
              "      box-shadow: 0px 1px 2px rgba(60, 64, 67, 0.3), 0px 1px 3px 1px rgba(60, 64, 67, 0.15);\n",
              "      fill: #174EA6;\n",
              "    }\n",
              "\n",
              "    [theme=dark] .colab-df-convert {\n",
              "      background-color: #3B4455;\n",
              "      fill: #D2E3FC;\n",
              "    }\n",
              "\n",
              "    [theme=dark] .colab-df-convert:hover {\n",
              "      background-color: #434B5C;\n",
              "      box-shadow: 0px 1px 3px 1px rgba(0, 0, 0, 0.15);\n",
              "      filter: drop-shadow(0px 1px 2px rgba(0, 0, 0, 0.3));\n",
              "      fill: #FFFFFF;\n",
              "    }\n",
              "  </style>\n",
              "\n",
              "      <script>\n",
              "        const buttonEl =\n",
              "          document.querySelector('#df-3a9366fa-695c-4379-9af1-49191d189fb6 button.colab-df-convert');\n",
              "        buttonEl.style.display =\n",
              "          google.colab.kernel.accessAllowed ? 'block' : 'none';\n",
              "\n",
              "        async function convertToInteractive(key) {\n",
              "          const element = document.querySelector('#df-3a9366fa-695c-4379-9af1-49191d189fb6');\n",
              "          const dataTable =\n",
              "            await google.colab.kernel.invokeFunction('convertToInteractive',\n",
              "                                                     [key], {});\n",
              "          if (!dataTable) return;\n",
              "\n",
              "          const docLinkHtml = 'Like what you see? Visit the ' +\n",
              "            '<a target=\"_blank\" href=https://colab.research.google.com/notebooks/data_table.ipynb>data table notebook</a>'\n",
              "            + ' to learn more about interactive tables.';\n",
              "          element.innerHTML = '';\n",
              "          dataTable['output_type'] = 'display_data';\n",
              "          await google.colab.output.renderOutput(dataTable, element);\n",
              "          const docLink = document.createElement('div');\n",
              "          docLink.innerHTML = docLinkHtml;\n",
              "          element.appendChild(docLink);\n",
              "        }\n",
              "      </script>\n",
              "    </div>\n",
              "  </div>\n",
              "  "
            ]
          },
          "metadata": {},
          "execution_count": 97
        },
        {
          "output_type": "display_data",
          "data": {
            "text/plain": [
              "<Figure size 1008x576 with 1 Axes>"
            ],
            "image/png": "[encoded data removed]"
          },
          "metadata": {
            "needs_background": "light"
          }
        }
      ],
      "source": [
        "def cause_wise(cs):\n",
        "    sum=df[df[\"Type\"]==cs]['Total'].sum()\n",
        "    return sum\n",
        "\n",
        "causes=df[\"Type\"].unique()\n",
        "reason=[]\n",
        "\n",
        "for cs in causes:\n",
        "    #dict[age]=Age_group(age)\n",
        "    reason.append(cause_wise(cs))\n",
        "\n",
        "#age=pd.DataFrame.from_dict(dict, orient='index')\n",
        "reason=pd.DataFrame({\"cause\":causes,\"count\":reason})\n",
        "fig_dims = (14, 8)\n",
        "\n",
        "fig, ax = plt.subplots(figsize=fig_dims)\n",
        "\n",
        "sns.barplot(x = \"cause\", y = \"count\", ax=ax, data=reason)\n",
        "#sns.catplot(x=\"state\", y=\"count\", data=state, kind=\"bar\")\n",
        "plt.xticks(rotation=90)\n",
        "reason"
      ]
    },
    {
      "cell_type": "markdown",
      "metadata": {
        "id": "DthUHjbYs0_n"
      },
      "source": [
        "Change in number of suicide for each age group"
      ]
    },
    {
      "cell_type": "code",
      "execution_count": null,
      "metadata": {
        "colab": {
          "base_uri": "https://localhost:8080/",
          "height": 441
        },
        "id": "cnJBE6UOxa2s",
        "outputId": "68b7b150-fe3f-4156-92ae-e5ef09112842"
      },
      "outputs": [
        {
          "output_type": "display_data",
          "data": {
            "text/plain": [
              "<Figure size 1008x432 with 2 Axes>"
            ],
            "image/png": "[encoded data removed]"
          },
          "metadata": {
            "needs_background": "light"
          }
        }
      ],
      "source": [
        "causes = df[df['Type_code']=='Causes']\n",
        "causesGrp = causes.groupby(['State','Age_group'],as_index=False).sum()\n",
        "causesGrpPvt = causesGrp.pivot(index='Age_group',columns='State',values='Total')\n",
        "plt.figure(figsize=(14,6))\n",
        "plt.xticks(rotation=45,ha='right')\n",
        "sns.heatmap(causesGrpPvt,cmap='YlGnBu')\n",
        "plt.tight_layout()\n"
      ]
    },
    {
      "cell_type": "code",
      "execution_count": null,
      "metadata": {
        "colab": {
          "base_uri": "https://localhost:8080/",
          "height": 497
        },
        "id": "QReqAWYIsMUj",
        "outputId": "cf2cc79e-f417-447e-d4b9-04dedfb0df17"
      },
      "outputs": [
        {
          "output_type": "display_data",
          "data": {
            "text/plain": [
              "<Figure size 1080x576 with 1 Axes>"
            ],
            "image/png": "[encoded data removed]"
          },
          "metadata": {
            "needs_background": "light"
          }
        }
      ],
      "source": [
        "pd.crosstab(df.Year,df.Type_code).plot(stacked=False,figsize=(15,8))\n",
        "plt.xlabel(\"Years\")\n",
        "plt.ylabel(\"frequency\")\n",
        "plt.show()"
      ]
    },
    {
      "cell_type": "code",
      "execution_count": null,
      "metadata": {
        "colab": {
          "base_uri": "https://localhost:8080/",
          "height": 466
        },
        "id": "SbkLm_qLvRF-",
        "outputId": "40637cf9-f56b-4c16-af97-10a0255be910"
      },
      "outputs": [
        {
          "output_type": "display_data",
          "data": {
            "text/plain": [
              "<Figure size 1080x576 with 1 Axes>"
            ],
            "image/png": "[encoded data removed]"
          },
          "metadata": {}
        }
      ],
      "source": [
        "plt.figure(figsize=(15,8))\n",
        "df['Type_code'].value_counts().plot.pie(autopct=\"%1.1f%%\",textprops={\"fontsize\" : 16})\n",
        "plt.show()"
      ]
    },
    {
      "cell_type": "markdown",
      "metadata": {
        "id": "2yYxsZCc2CqO"
      },
      "source": [
        "Frequency of Suicides in Particular States wrt Years"
      ]
    },
    {
      "cell_type": "code",
      "execution_count": null,
      "metadata": {
        "colab": {
          "base_uri": "https://localhost:8080/",
          "height": 513
        },
        "id": "6-9iTn4-0ysb",
        "outputId": "32385806-ca00-4045-c5a3-f884def73543"
      },
      "outputs": [
        {
          "output_type": "display_data",
          "data": {
            "text/plain": [
              "<Figure size 1080x576 with 1 Axes>"
            ],
            "image/png": "[encoded data removed]"
          },
          "metadata": {
            "needs_background": "light"
          }
        }
      ],
      "source": [
        "states=df.groupby('State')\n",
        "maha=states.get_group('Maharashtra')\n",
        "\n",
        "maha.Year.plot(kind='hist',bins=30,figsize=(15,8),color='green')\n",
        "plt.xlabel('Years')\n",
        "plt.ylabel('Frequency')\n",
        "plt.title('Frequency of suicides in Maharashtra')\n",
        "plt.show()"
      ]
    },
    {
      "cell_type": "code",
      "execution_count": null,
      "metadata": {
        "colab": {
          "base_uri": "https://localhost:8080/",
          "height": 513
        },
        "id": "dyASKggK2AK5",
        "outputId": "53d3cf46-ef23-4c2e-df00-1d676d447796"
      },
      "outputs": [
        {
          "output_type": "display_data",
          "data": {
            "text/plain": [
              "<Figure size 1080x576 with 1 Axes>"
            ],
            "image/png": "[encoded data removed]"
          },
          "metadata": {
            "needs_background": "light"
          }
        }
      ],
      "source": [
        "states=df.groupby('State')\n",
        "bih=states.get_group('Bihar')\n",
        "\n",
        "bih.Year.plot(kind='hist',bins=30,figsize=(15,8),color=\"skyblue\")\n",
        "plt.xlabel('Years')\n",
        "plt.ylabel('Frequency')\n",
        "plt.title('Frequency of suicides in Bihar')\n",
        "plt.show()"
      ]
    },
    {
      "cell_type": "code",
      "execution_count": null,
      "metadata": {
        "colab": {
          "base_uri": "https://localhost:8080/",
          "height": 513
        },
        "id": "pb-ECBgM1ZwZ",
        "outputId": "2658d074-4dea-4761-c3cd-1d69d1507c8c"
      },
      "outputs": [
        {
          "output_type": "display_data",
          "data": {
            "text/plain": [
              "<Figure size 1080x576 with 1 Axes>"
            ],
            "image/png": "[encoded data removed]"
          },
          "metadata": {
            "needs_background": "light"
          }
        }
      ],
      "source": [
        "states=df.groupby('State')\n",
        "lak=states.get_group('Lakshadweep')\n",
        "\n",
        "lak.Year.plot(kind='hist',bins=30,figsize=(15,8),color=\"red\")\n",
        "plt.xlabel('Years')\n",
        "plt.ylabel('Frequency')\n",
        "plt.title('Frequency of suicides in Lakshadweep')\n",
        "plt.show()"
      ]
    },
    {
      "cell_type": "markdown",
      "metadata": {
        "id": "CTyDgvIbVg0-"
      },
      "source": [
        "Analyzing the states having high rate for suicide counts - Karnataka, Tamil Nadu, Andhra Pradesh"
      ]
    },
    {
      "cell_type": "code",
      "execution_count": null,
      "metadata": {
        "id": "bh1NrapUV2cY"
      },
      "outputs": [],
      "source": [
        "#Splitting the data as per the State\n",
        "State1 = df[df['State']=='Karnataka']\n",
        "State2 = df[df['State']=='Tamil Nadu']\n",
        "State3 = df[df['State']=='Andhra Pradesh']"
      ]
    },
    {
      "cell_type": "code",
      "execution_count": null,
      "metadata": {
        "id": "Vtc6g9UJWD6v"
      },
      "outputs": [],
      "source": [
        "def plot_for_State_by_age(data):\n",
        "    plt.figure(figsize=(12,6))\n",
        "    data = data[['Age_group','Gender','Total']]\n",
        "    edSort = data.groupby(['Age_group','Gender'],as_index=False).sum().sort_values('Total',ascending=False)\n",
        "    sns.barplot(x='Age_group',y='Total',hue='Gender',data=edSort,palette='RdBu')"
      ]
    },
    {
      "cell_type": "code",
      "execution_count": null,
      "metadata": {
        "id": "sP3rtuWlWEF3"
      },
      "outputs": [],
      "source": [
        "def plot_for_State_by_type(data):\n",
        "    plt.figure(figsize=(12,6))\n",
        "    data = data[['Type_code','Gender','Total']]\n",
        "    edSort = data.groupby(['Type_code','Gender'],as_index=False).sum().sort_values('Total',ascending=False)\n",
        "    sns.barplot(x='Type_code',y='Total',hue='Gender',data=edSort,palette='ch:2.5,-.2,dark=.3')"
      ]
    },
    {
      "cell_type": "markdown",
      "metadata": {
        "id": "ejoxrUYIWKP4"
      },
      "source": [
        "Karnataka"
      ]
    },
    {
      "cell_type": "code",
      "execution_count": null,
      "metadata": {
        "colab": {
          "base_uri": "https://localhost:8080/",
          "height": 389
        },
        "id": "xGgaRomoWEP9",
        "outputId": "8ebc41a3-6776-4b02-df8b-137145b756a6"
      },
      "outputs": [
        {
          "output_type": "display_data",
          "data": {
            "text/plain": [
              "<Figure size 864x432 with 1 Axes>"
            ],
            "image/png": "[encoded data removed]"
          },
          "metadata": {
            "needs_background": "light"
          }
        }
      ],
      "source": [
        "#plotting as per the age_group\n",
        "plot_for_State_by_age(State1)"
      ]
    },
    {
      "cell_type": "code",
      "execution_count": null,
      "metadata": {
        "colab": {
          "base_uri": "https://localhost:8080/",
          "height": 390
        },
        "id": "Qijlm9D0WP9V",
        "outputId": "d6a1ab98-202d-435b-ff30-42eaa5edb3a1"
      },
      "outputs": [
        {
          "output_type": "display_data",
          "data": {
            "text/plain": [
              "<Figure size 864x432 with 1 Axes>"
            ],
            "image/png": "[encoded data removed]"
          },
          "metadata": {
            "needs_background": "light"
          }
        }
      ],
      "source": [
        "#plotting as per the different causes\n",
        "plot_for_State_by_type(State1)"
      ]
    },
    {
      "cell_type": "markdown",
      "metadata": {
        "id": "fkBqps9NWX44"
      },
      "source": [
        "**Tamil Nadu**"
      ]
    },
    {
      "cell_type": "code",
      "execution_count": null,
      "metadata": {
        "colab": {
          "base_uri": "https://localhost:8080/",
          "height": 389
        },
        "id": "kdDhHAwrWQMY",
        "outputId": "616b9353-09c4-408a-f2fd-7402a2150e92"
      },
      "outputs": [
        {
          "output_type": "display_data",
          "data": {
            "text/plain": [
              "<Figure size 864x432 with 1 Axes>"
            ],
            "image/png": "[encoded data removed]"
          },
          "metadata": {
            "needs_background": "light"
          }
        }
      ],
      "source": [
        "#plotting as per the age_group\n",
        "plot_for_State_by_age(State2)"
      ]
    },
    {
      "cell_type": "code",
      "execution_count": null,
      "metadata": {
        "colab": {
          "base_uri": "https://localhost:8080/",
          "height": 390
        },
        "id": "U3rXULFSWced",
        "outputId": "8312cf80-b5cb-44c5-c74a-4402e86cdc17"
      },
      "outputs": [
        {
          "output_type": "display_data",
          "data": {
            "text/plain": [
              "<Figure size 864x432 with 1 Axes>"
            ],
            "image/png": "[encoded data removed]"
          },
          "metadata": {
            "needs_background": "light"
          }
        }
      ],
      "source": [
        "#plotting as per the different causes\n",
        "plot_for_State_by_type(State2)"
      ]
    },
    {
      "cell_type": "markdown",
      "metadata": {
        "id": "ssA_7FzvWf7R"
      },
      "source": [
        "Andhra Pradesh"
      ]
    },
    {
      "cell_type": "code",
      "execution_count": null,
      "metadata": {
        "colab": {
          "base_uri": "https://localhost:8080/",
          "height": 389
        },
        "id": "OcW-paqZWdIq",
        "outputId": "f7091c5d-5e2b-45a5-da82-b167d0dd8f14"
      },
      "outputs": [
        {
          "output_type": "display_data",
          "data": {
            "text/plain": [
              "<Figure size 864x432 with 1 Axes>"
            ],
            "image/png": "[encoded data removed]"
          },
          "metadata": {
            "needs_background": "light"
          }
        }
      ],
      "source": [
        "#plotting as per the age_group\n",
        "plot_for_State_by_age(State3)"
      ]
    },
    {
      "cell_type": "code",
      "execution_count": null,
      "metadata": {
        "colab": {
          "base_uri": "https://localhost:8080/",
          "height": 390
        },
        "id": "3MpGGuJFWdN1",
        "outputId": "6b252eba-5aca-4efb-fd6c-c07d3c06f955"
      },
      "outputs": [
        {
          "output_type": "display_data",
          "data": {
            "text/plain": [
              "<Figure size 864x432 with 1 Axes>"
            ],
            "image/png": "[encoded data removed]"
          },
          "metadata": {
            "needs_background": "light"
          }
        }
      ],
      "source": [
        "#plotting as per the different causes\n",
        "plot_for_State_by_type(State3)"
      ]
    },
    {
      "cell_type": "markdown",
      "metadata": {
        "id": "LcFr534MHrjt"
      },
      "source": [
        "Gender"
      ]
    },
    {
      "cell_type": "code",
      "execution_count": null,
      "metadata": {
        "colab": {
          "base_uri": "https://localhost:8080/",
          "height": 535
        },
        "id": "vwUAtUBD3Hj_",
        "outputId": "b6d60be9-3beb-4409-9776-bdf816e17f7a"
      },
      "outputs": [
        {
          "output_type": "execute_result",
          "data": {
            "text/plain": [
              "<matplotlib.axes._subplots.AxesSubplot at 0x7faf03e04f50>"
            ]
          },
          "metadata": {},
          "execution_count": 113
        },
        {
          "output_type": "display_data",
          "data": {
            "text/plain": [
              "<Figure size 842.4x595.44 with 1 Axes>"
            ],
            "image/png": "[encoded data removed]"
          },
          "metadata": {}
        }
      ],
      "source": [
        "sns.set(rc={'figure.figsize':(11.7,8.27)})\n",
        "sns.barplot(x=df['Gender'], y=df['Total'])"
      ]
    },
    {
      "cell_type": "markdown",
      "metadata": {
        "id": "zcxATyzkQ4yP"
      },
      "source": [
        "Cumulative: "
      ]
    },
    {
      "cell_type": "code",
      "execution_count": null,
      "metadata": {
        "colab": {
          "base_uri": "https://localhost:8080/",
          "height": 248
        },
        "id": "N5ppFc92HRy6",
        "outputId": "31950d1c-0802-41db-fef7-80b14857275d"
      },
      "outputs": [
        {
          "output_type": "display_data",
          "data": {
            "text/plain": [
              "<Figure size 1296x288 with 4 Axes>"
            ],
            "image/png": "[encoded data removed]"
          },
          "metadata": {}
        }
      ],
      "source": [
        "col = ['Suicide Count', 'Most Common\\n Cause', 'Most affected \\nState', 'Most affected\\n Age Group',]\n",
        "\n",
        "values = [df.groupby('Gender').sum()['Total']['Female'],'Being Housewife','West\\n Bengal','15-29']\n",
        "\n",
        "fig, axes = plt.subplots(1, 4, figsize=(18, 4))\n",
        "axes = axes.flatten()\n",
        "fig.set_facecolor('white')\n",
        "\n",
        "for ind, col in enumerate(col):\n",
        "    axes[ind].text(0.5, 0.6, col, \n",
        "            ha='center', va='center',\n",
        "            fontfamily='monospace', fontsize=20,\n",
        "            color='black', backgroundcolor='pink')\n",
        "\n",
        "    axes[ind].text(0.5, 0.2, values[ind], \n",
        "            ha='center', va='center',\n",
        "            fontfamily='monospace', fontsize=20, fontweight='bold',\n",
        "            color='Orange', backgroundcolor='white')\n",
        "    \n",
        "    axes[ind].set_axis_off()"
      ]
    },
    {
      "cell_type": "markdown",
      "metadata": {
        "id": "LDsy6YF5wc2P"
      },
      "source": [
        "Prediction using Naive Bayes Algorithm"
      ]
    },
    {
      "cell_type": "code",
      "execution_count": null,
      "metadata": {
        "id": "eX0LrNCRRgA_"
      },
      "outputs": [],
      "source": [
        "import pandas as pd"
      ]
    },
    {
      "cell_type": "code",
      "execution_count": null,
      "metadata": {
        "colab": {
          "base_uri": "https://localhost:8080/",
          "height": 206
        },
        "id": "-TXPM1zVs6WC",
        "outputId": "6847b0df-19b1-4c0c-a349-cd0f1f230369"
      },
      "outputs": [
        {
          "output_type": "execute_result",
          "data": {
            "text/plain": [
              "  Row Labels  Sum of Total  Probablity\n",
              "0       0-14         98410    0.022695\n",
              "1      15-29       1534037    0.353779\n",
              "2      30-44       1471599    0.339379\n",
              "3      45-59        885177    0.204139\n",
              "4        60+        346925    0.080008"
            ],
            "text/html": [
              "\n",
              "  <div id=\"df-487700c9-75db-4c3b-ae07-b24da9730e6b\">\n",
              "    <div class=\"colab-df-container\">\n",
              "      <div>\n",
              "<style scoped>\n",
              "    .dataframe tbody tr th:only-of-type {\n",
              "        vertical-align: middle;\n",
              "    }\n",
              "\n",
              "    .dataframe tbody tr th {\n",
              "        vertical-align: top;\n",
              "    }\n",
              "\n",
              "    .dataframe thead th {\n",
              "        text-align: right;\n",
              "    }\n",
              "</style>\n",
              "<table border=\"1\" class=\"dataframe\">\n",
              "  <thead>\n",
              "    <tr style=\"text-align: right;\">\n",
              "      <th></th>\n",
              "      <th>Row Labels</th>\n",
              "      <th>Sum of Total</th>\n",
              "      <th>Probablity</th>\n",
              "    </tr>\n",
              "  </thead>\n",
              "  <tbody>\n",
              "    <tr>\n",
              "      <th>0</th>\n",
              "      <td>0-14</td>\n",
              "      <td>98410</td>\n",
              "      <td>0.022695</td>\n",
              "    </tr>\n",
              "    <tr>\n",
              "      <th>1</th>\n",
              "      <td>15-29</td>\n",
              "      <td>1534037</td>\n",
              "      <td>0.353779</td>\n",
              "    </tr>\n",
              "    <tr>\n",
              "      <th>2</th>\n",
              "      <td>30-44</td>\n",
              "      <td>1471599</td>\n",
              "      <td>0.339379</td>\n",
              "    </tr>\n",
              "    <tr>\n",
              "      <th>3</th>\n",
              "      <td>45-59</td>\n",
              "      <td>885177</td>\n",
              "      <td>0.204139</td>\n",
              "    </tr>\n",
              "    <tr>\n",
              "      <th>4</th>\n",
              "      <td>60+</td>\n",
              "      <td>346925</td>\n",
              "      <td>0.080008</td>\n",
              "    </tr>\n",
              "  </tbody>\n",
              "</table>\n",
              "</div>\n",
              "      <button class=\"colab-df-convert\" onclick=\"convertToInteractive('df-487700c9-75db-4c3b-ae07-b24da9730e6b')\"\n",
              "              title=\"Convert this dataframe to an interactive table.\"\n",
              "              style=\"display:none;\">\n",
              "        \n",
              "  <svg xmlns=\"http://www.w3.org/2000/svg\" height=\"24px\"viewBox=\"0 0 24 24\"\n",
              "       width=\"24px\">\n",
              "    <path d=\"M0 0h24v24H0V0z\" fill=\"none\"/>\n",
              "    <path d=\"M18.56 5.44l.94 2.06.94-2.06 2.06-.94-2.06-.94-.94-2.06-.94 2.06-2.06.94zm-11 1L8.5 8.5l.94-2.06 2.06-.94-2.06-.94L8.5 2.5l-.94 2.06-2.06.94zm10 10l.94 2.06.94-2.06 2.06-.94-2.06-.94-.94-2.06-.94 2.06-2.06.94z\"/><path d=\"M17.41 7.96l-1.37-1.37c-.4-.4-.92-.59-1.43-.59-.52 0-1.04.2-1.43.59L10.3 9.45l-7.72 7.72c-.78.78-.78 2.05 0 2.83L4 21.41c.39.39.9.59 1.41.59.51 0 1.02-.2 1.41-.59l7.78-7.78 2.81-2.81c.8-.78.8-2.07 0-2.86zM5.41 20L4 18.59l7.72-7.72 1.47 1.35L5.41 20z\"/>\n",
              "  </svg>\n",
              "      </button>\n",
              "      \n",
              "  <style>\n",
              "    .colab-df-container {\n",
              "      display:flex;\n",
              "      flex-wrap:wrap;\n",
              "      gap: 12px;\n",
              "    }\n",
              "\n",
              "    .colab-df-convert {\n",
              "      background-color: #E8F0FE;\n",
              "      border: none;\n",
              "      border-radius: 50%;\n",
              "      cursor: pointer;\n",
              "      display: none;\n",
              "      fill: #1967D2;\n",
              "      height: 32px;\n",
              "      padding: 0 0 0 0;\n",
              "      width: 32px;\n",
              "    }\n",
              "\n",
              "    .colab-df-convert:hover {\n",
              "      background-color: #E2EBFA;\n",
              "      box-shadow: 0px 1px 2px rgba(60, 64, 67, 0.3), 0px 1px 3px 1px rgba(60, 64, 67, 0.15);\n",
              "      fill: #174EA6;\n",
              "    }\n",
              "\n",
              "    [theme=dark] .colab-df-convert {\n",
              "      background-color: #3B4455;\n",
              "      fill: #D2E3FC;\n",
              "    }\n",
              "\n",
              "    [theme=dark] .colab-df-convert:hover {\n",
              "      background-color: #434B5C;\n",
              "      box-shadow: 0px 1px 3px 1px rgba(0, 0, 0, 0.15);\n",
              "      filter: drop-shadow(0px 1px 2px rgba(0, 0, 0, 0.3));\n",
              "      fill: #FFFFFF;\n",
              "    }\n",
              "  </style>\n",
              "\n",
              "      <script>\n",
              "        const buttonEl =\n",
              "          document.querySelector('#df-487700c9-75db-4c3b-ae07-b24da9730e6b button.colab-df-convert');\n",
              "        buttonEl.style.display =\n",
              "          google.colab.kernel.accessAllowed ? 'block' : 'none';\n",
              "\n",
              "        async function convertToInteractive(key) {\n",
              "          const element = document.querySelector('#df-487700c9-75db-4c3b-ae07-b24da9730e6b');\n",
              "          const dataTable =\n",
              "            await google.colab.kernel.invokeFunction('convertToInteractive',\n",
              "                                                     [key], {});\n",
              "          if (!dataTable) return;\n",
              "\n",
              "          const docLinkHtml = 'Like what you see? Visit the ' +\n",
              "            '<a target=\"_blank\" href=https://colab.research.google.com/notebooks/data_table.ipynb>data table notebook</a>'\n",
              "            + ' to learn more about interactive tables.';\n",
              "          element.innerHTML = '';\n",
              "          dataTable['output_type'] = 'display_data';\n",
              "          await google.colab.output.renderOutput(dataTable, element);\n",
              "          const docLink = document.createElement('div');\n",
              "          docLink.innerHTML = docLinkHtml;\n",
              "          element.appendChild(docLink);\n",
              "        }\n",
              "      </script>\n",
              "    </div>\n",
              "  </div>\n",
              "  "
            ]
          },
          "metadata": {},
          "execution_count": 34
        }
      ],
      "source": [
        "age = pd.read_csv('age.csv')\n",
        "age.head()"
      ]
    },
    {
      "cell_type": "code",
      "execution_count": null,
      "metadata": {
        "colab": {
          "base_uri": "https://localhost:8080/",
          "height": 206
        },
        "id": "zDuzbS7Os7ro",
        "outputId": "e85093ee-6483-4d0c-de30-bbfd4a292a66"
      },
      "outputs": [
        {
          "output_type": "execute_result",
          "data": {
            "text/plain": [
              "                                           Causes     Sum  Probablity\n",
              "0         Bankruptcy or Sudden change in Economic   32755    0.002503\n",
              "1  Bankruptcy or Sudden change in Economic Status    2655    0.000203\n",
              "2         Cancellation/Non-Settlement of Marriage   11296    0.000863\n",
              "3                                          Cancer    9058    0.000692\n",
              "4                                Causes Not known  237069    0.018113"
            ],
            "text/html": [
              "\n",
              "  <div id=\"df-47f757c9-32d8-4865-9fd4-64f35dbc890f\">\n",
              "    <div class=\"colab-df-container\">\n",
              "      <div>\n",
              "<style scoped>\n",
              "    .dataframe tbody tr th:only-of-type {\n",
              "        vertical-align: middle;\n",
              "    }\n",
              "\n",
              "    .dataframe tbody tr th {\n",
              "        vertical-align: top;\n",
              "    }\n",
              "\n",
              "    .dataframe thead th {\n",
              "        text-align: right;\n",
              "    }\n",
              "</style>\n",
              "<table border=\"1\" class=\"dataframe\">\n",
              "  <thead>\n",
              "    <tr style=\"text-align: right;\">\n",
              "      <th></th>\n",
              "      <th>Causes</th>\n",
              "      <th>Sum</th>\n",
              "      <th>Probablity</th>\n",
              "    </tr>\n",
              "  </thead>\n",
              "  <tbody>\n",
              "    <tr>\n",
              "      <th>0</th>\n",
              "      <td>Bankruptcy or Sudden change in Economic</td>\n",
              "      <td>32755</td>\n",
              "      <td>0.002503</td>\n",
              "    </tr>\n",
              "    <tr>\n",
              "      <th>1</th>\n",
              "      <td>Bankruptcy or Sudden change in Economic Status</td>\n",
              "      <td>2655</td>\n",
              "      <td>0.000203</td>\n",
              "    </tr>\n",
              "    <tr>\n",
              "      <th>2</th>\n",
              "      <td>Cancellation/Non-Settlement of Marriage</td>\n",
              "      <td>11296</td>\n",
              "      <td>0.000863</td>\n",
              "    </tr>\n",
              "    <tr>\n",
              "      <th>3</th>\n",
              "      <td>Cancer</td>\n",
              "      <td>9058</td>\n",
              "      <td>0.000692</td>\n",
              "    </tr>\n",
              "    <tr>\n",
              "      <th>4</th>\n",
              "      <td>Causes Not known</td>\n",
              "      <td>237069</td>\n",
              "      <td>0.018113</td>\n",
              "    </tr>\n",
              "  </tbody>\n",
              "</table>\n",
              "</div>\n",
              "      <button class=\"colab-df-convert\" onclick=\"convertToInteractive('df-47f757c9-32d8-4865-9fd4-64f35dbc890f')\"\n",
              "              title=\"Convert this dataframe to an interactive table.\"\n",
              "              style=\"display:none;\">\n",
              "        \n",
              "  <svg xmlns=\"http://www.w3.org/2000/svg\" height=\"24px\"viewBox=\"0 0 24 24\"\n",
              "       width=\"24px\">\n",
              "    <path d=\"M0 0h24v24H0V0z\" fill=\"none\"/>\n",
              "    <path d=\"M18.56 5.44l.94 2.06.94-2.06 2.06-.94-2.06-.94-.94-2.06-.94 2.06-2.06.94zm-11 1L8.5 8.5l.94-2.06 2.06-.94-2.06-.94L8.5 2.5l-.94 2.06-2.06.94zm10 10l.94 2.06.94-2.06 2.06-.94-2.06-.94-.94-2.06-.94 2.06-2.06.94z\"/><path d=\"M17.41 7.96l-1.37-1.37c-.4-.4-.92-.59-1.43-.59-.52 0-1.04.2-1.43.59L10.3 9.45l-7.72 7.72c-.78.78-.78 2.05 0 2.83L4 21.41c.39.39.9.59 1.41.59.51 0 1.02-.2 1.41-.59l7.78-7.78 2.81-2.81c.8-.78.8-2.07 0-2.86zM5.41 20L4 18.59l7.72-7.72 1.47 1.35L5.41 20z\"/>\n",
              "  </svg>\n",
              "      </button>\n",
              "      \n",
              "  <style>\n",
              "    .colab-df-container {\n",
              "      display:flex;\n",
              "      flex-wrap:wrap;\n",
              "      gap: 12px;\n",
              "    }\n",
              "\n",
              "    .colab-df-convert {\n",
              "      background-color: #E8F0FE;\n",
              "      border: none;\n",
              "      border-radius: 50%;\n",
              "      cursor: pointer;\n",
              "      display: none;\n",
              "      fill: #1967D2;\n",
              "      height: 32px;\n",
              "      padding: 0 0 0 0;\n",
              "      width: 32px;\n",
              "    }\n",
              "\n",
              "    .colab-df-convert:hover {\n",
              "      background-color: #E2EBFA;\n",
              "      box-shadow: 0px 1px 2px rgba(60, 64, 67, 0.3), 0px 1px 3px 1px rgba(60, 64, 67, 0.15);\n",
              "      fill: #174EA6;\n",
              "    }\n",
              "\n",
              "    [theme=dark] .colab-df-convert {\n",
              "      background-color: #3B4455;\n",
              "      fill: #D2E3FC;\n",
              "    }\n",
              "\n",
              "    [theme=dark] .colab-df-convert:hover {\n",
              "      background-color: #434B5C;\n",
              "      box-shadow: 0px 1px 3px 1px rgba(0, 0, 0, 0.15);\n",
              "      filter: drop-shadow(0px 1px 2px rgba(0, 0, 0, 0.3));\n",
              "      fill: #FFFFFF;\n",
              "    }\n",
              "  </style>\n",
              "\n",
              "      <script>\n",
              "        const buttonEl =\n",
              "          document.querySelector('#df-47f757c9-32d8-4865-9fd4-64f35dbc890f button.colab-df-convert');\n",
              "        buttonEl.style.display =\n",
              "          google.colab.kernel.accessAllowed ? 'block' : 'none';\n",
              "\n",
              "        async function convertToInteractive(key) {\n",
              "          const element = document.querySelector('#df-47f757c9-32d8-4865-9fd4-64f35dbc890f');\n",
              "          const dataTable =\n",
              "            await google.colab.kernel.invokeFunction('convertToInteractive',\n",
              "                                                     [key], {});\n",
              "          if (!dataTable) return;\n",
              "\n",
              "          const docLinkHtml = 'Like what you see? Visit the ' +\n",
              "            '<a target=\"_blank\" href=https://colab.research.google.com/notebooks/data_table.ipynb>data table notebook</a>'\n",
              "            + ' to learn more about interactive tables.';\n",
              "          element.innerHTML = '';\n",
              "          dataTable['output_type'] = 'display_data';\n",
              "          await google.colab.output.renderOutput(dataTable, element);\n",
              "          const docLink = document.createElement('div');\n",
              "          docLink.innerHTML = docLinkHtml;\n",
              "          element.appendChild(docLink);\n",
              "        }\n",
              "      </script>\n",
              "    </div>\n",
              "  </div>\n",
              "  "
            ]
          },
          "metadata": {},
          "execution_count": 35
        }
      ],
      "source": [
        "causes = pd.read_csv('causes.csv')\n",
        "causes.head()"
      ]
    },
    {
      "cell_type": "code",
      "execution_count": null,
      "metadata": {
        "colab": {
          "base_uri": "https://localhost:8080/",
          "height": 112
        },
        "id": "NBcd50Eos9UK",
        "outputId": "7f9d5828-806b-48c2-a76b-a76ea21a2091"
      },
      "outputs": [
        {
          "output_type": "execute_result",
          "data": {
            "text/plain": [
              "  Row Labels  Sum of Total  Probablity\n",
              "0     Female       4702974    0.359782\n",
              "1       Male       8368760    0.640218"
            ],
            "text/html": [
              "\n",
              "  <div id=\"df-e2676fa8-6982-462d-b9cf-394d79a977da\">\n",
              "    <div class=\"colab-df-container\">\n",
              "      <div>\n",
              "<style scoped>\n",
              "    .dataframe tbody tr th:only-of-type {\n",
              "        vertical-align: middle;\n",
              "    }\n",
              "\n",
              "    .dataframe tbody tr th {\n",
              "        vertical-align: top;\n",
              "    }\n",
              "\n",
              "    .dataframe thead th {\n",
              "        text-align: right;\n",
              "    }\n",
              "</style>\n",
              "<table border=\"1\" class=\"dataframe\">\n",
              "  <thead>\n",
              "    <tr style=\"text-align: right;\">\n",
              "      <th></th>\n",
              "      <th>Row Labels</th>\n",
              "      <th>Sum of Total</th>\n",
              "      <th>Probablity</th>\n",
              "    </tr>\n",
              "  </thead>\n",
              "  <tbody>\n",
              "    <tr>\n",
              "      <th>0</th>\n",
              "      <td>Female</td>\n",
              "      <td>4702974</td>\n",
              "      <td>0.359782</td>\n",
              "    </tr>\n",
              "    <tr>\n",
              "      <th>1</th>\n",
              "      <td>Male</td>\n",
              "      <td>8368760</td>\n",
              "      <td>0.640218</td>\n",
              "    </tr>\n",
              "  </tbody>\n",
              "</table>\n",
              "</div>\n",
              "      <button class=\"colab-df-convert\" onclick=\"convertToInteractive('df-e2676fa8-6982-462d-b9cf-394d79a977da')\"\n",
              "              title=\"Convert this dataframe to an interactive table.\"\n",
              "              style=\"display:none;\">\n",
              "        \n",
              "  <svg xmlns=\"http://www.w3.org/2000/svg\" height=\"24px\"viewBox=\"0 0 24 24\"\n",
              "       width=\"24px\">\n",
              "    <path d=\"M0 0h24v24H0V0z\" fill=\"none\"/>\n",
              "    <path d=\"M18.56 5.44l.94 2.06.94-2.06 2.06-.94-2.06-.94-.94-2.06-.94 2.06-2.06.94zm-11 1L8.5 8.5l.94-2.06 2.06-.94-2.06-.94L8.5 2.5l-.94 2.06-2.06.94zm10 10l.94 2.06.94-2.06 2.06-.94-2.06-.94-.94-2.06-.94 2.06-2.06.94z\"/><path d=\"M17.41 7.96l-1.37-1.37c-.4-.4-.92-.59-1.43-.59-.52 0-1.04.2-1.43.59L10.3 9.45l-7.72 7.72c-.78.78-.78 2.05 0 2.83L4 21.41c.39.39.9.59 1.41.59.51 0 1.02-.2 1.41-.59l7.78-7.78 2.81-2.81c.8-.78.8-2.07 0-2.86zM5.41 20L4 18.59l7.72-7.72 1.47 1.35L5.41 20z\"/>\n",
              "  </svg>\n",
              "      </button>\n",
              "      \n",
              "  <style>\n",
              "    .colab-df-container {\n",
              "      display:flex;\n",
              "      flex-wrap:wrap;\n",
              "      gap: 12px;\n",
              "    }\n",
              "\n",
              "    .colab-df-convert {\n",
              "      background-color: #E8F0FE;\n",
              "      border: none;\n",
              "      border-radius: 50%;\n",
              "      cursor: pointer;\n",
              "      display: none;\n",
              "      fill: #1967D2;\n",
              "      height: 32px;\n",
              "      padding: 0 0 0 0;\n",
              "      width: 32px;\n",
              "    }\n",
              "\n",
              "    .colab-df-convert:hover {\n",
              "      background-color: #E2EBFA;\n",
              "      box-shadow: 0px 1px 2px rgba(60, 64, 67, 0.3), 0px 1px 3px 1px rgba(60, 64, 67, 0.15);\n",
              "      fill: #174EA6;\n",
              "    }\n",
              "\n",
              "    [theme=dark] .colab-df-convert {\n",
              "      background-color: #3B4455;\n",
              "      fill: #D2E3FC;\n",
              "    }\n",
              "\n",
              "    [theme=dark] .colab-df-convert:hover {\n",
              "      background-color: #434B5C;\n",
              "      box-shadow: 0px 1px 3px 1px rgba(0, 0, 0, 0.15);\n",
              "      filter: drop-shadow(0px 1px 2px rgba(0, 0, 0, 0.3));\n",
              "      fill: #FFFFFF;\n",
              "    }\n",
              "  </style>\n",
              "\n",
              "      <script>\n",
              "        const buttonEl =\n",
              "          document.querySelector('#df-e2676fa8-6982-462d-b9cf-394d79a977da button.colab-df-convert');\n",
              "        buttonEl.style.display =\n",
              "          google.colab.kernel.accessAllowed ? 'block' : 'none';\n",
              "\n",
              "        async function convertToInteractive(key) {\n",
              "          const element = document.querySelector('#df-e2676fa8-6982-462d-b9cf-394d79a977da');\n",
              "          const dataTable =\n",
              "            await google.colab.kernel.invokeFunction('convertToInteractive',\n",
              "                                                     [key], {});\n",
              "          if (!dataTable) return;\n",
              "\n",
              "          const docLinkHtml = 'Like what you see? Visit the ' +\n",
              "            '<a target=\"_blank\" href=https://colab.research.google.com/notebooks/data_table.ipynb>data table notebook</a>'\n",
              "            + ' to learn more about interactive tables.';\n",
              "          element.innerHTML = '';\n",
              "          dataTable['output_type'] = 'display_data';\n",
              "          await google.colab.output.renderOutput(dataTable, element);\n",
              "          const docLink = document.createElement('div');\n",
              "          docLink.innerHTML = docLinkHtml;\n",
              "          element.appendChild(docLink);\n",
              "        }\n",
              "      </script>\n",
              "    </div>\n",
              "  </div>\n",
              "  "
            ]
          },
          "metadata": {},
          "execution_count": 36
        }
      ],
      "source": [
        "gender = pd.read_csv('gender.csv')\n",
        "gender.head()"
      ]
    },
    {
      "cell_type": "code",
      "execution_count": null,
      "metadata": {
        "colab": {
          "base_uri": "https://localhost:8080/",
          "height": 206
        },
        "id": "sd1oNVsQtAql",
        "outputId": "bbc9fe05-f719-48c5-9585-e24f99cfd9f7"
      },
      "outputs": [
        {
          "output_type": "execute_result",
          "data": {
            "text/plain": [
              "           Professional_Profile     Sum  Probablity\n",
              "0  Farming/Agriculture Activity  197923    0.137519\n",
              "1                    House Wife  285243    0.198190\n",
              "2       Others (Please Specify)  469147    0.325968\n",
              "3         Professional Activity   39204    0.027239\n",
              "4     Public Sector Undertaking   30786    0.021390"
            ],
            "text/html": [
              "\n",
              "  <div id=\"df-5d05776e-613e-47cd-9ab0-a13b4dcbeb25\">\n",
              "    <div class=\"colab-df-container\">\n",
              "      <div>\n",
              "<style scoped>\n",
              "    .dataframe tbody tr th:only-of-type {\n",
              "        vertical-align: middle;\n",
              "    }\n",
              "\n",
              "    .dataframe tbody tr th {\n",
              "        vertical-align: top;\n",
              "    }\n",
              "\n",
              "    .dataframe thead th {\n",
              "        text-align: right;\n",
              "    }\n",
              "</style>\n",
              "<table border=\"1\" class=\"dataframe\">\n",
              "  <thead>\n",
              "    <tr style=\"text-align: right;\">\n",
              "      <th></th>\n",
              "      <th>Professional_Profile</th>\n",
              "      <th>Sum</th>\n",
              "      <th>Probablity</th>\n",
              "    </tr>\n",
              "  </thead>\n",
              "  <tbody>\n",
              "    <tr>\n",
              "      <th>0</th>\n",
              "      <td>Farming/Agriculture Activity</td>\n",
              "      <td>197923</td>\n",
              "      <td>0.137519</td>\n",
              "    </tr>\n",
              "    <tr>\n",
              "      <th>1</th>\n",
              "      <td>House Wife</td>\n",
              "      <td>285243</td>\n",
              "      <td>0.198190</td>\n",
              "    </tr>\n",
              "    <tr>\n",
              "      <th>2</th>\n",
              "      <td>Others (Please Specify)</td>\n",
              "      <td>469147</td>\n",
              "      <td>0.325968</td>\n",
              "    </tr>\n",
              "    <tr>\n",
              "      <th>3</th>\n",
              "      <td>Professional Activity</td>\n",
              "      <td>39204</td>\n",
              "      <td>0.027239</td>\n",
              "    </tr>\n",
              "    <tr>\n",
              "      <th>4</th>\n",
              "      <td>Public Sector Undertaking</td>\n",
              "      <td>30786</td>\n",
              "      <td>0.021390</td>\n",
              "    </tr>\n",
              "  </tbody>\n",
              "</table>\n",
              "</div>\n",
              "      <button class=\"colab-df-convert\" onclick=\"convertToInteractive('df-5d05776e-613e-47cd-9ab0-a13b4dcbeb25')\"\n",
              "              title=\"Convert this dataframe to an interactive table.\"\n",
              "              style=\"display:none;\">\n",
              "        \n",
              "  <svg xmlns=\"http://www.w3.org/2000/svg\" height=\"24px\"viewBox=\"0 0 24 24\"\n",
              "       width=\"24px\">\n",
              "    <path d=\"M0 0h24v24H0V0z\" fill=\"none\"/>\n",
              "    <path d=\"M18.56 5.44l.94 2.06.94-2.06 2.06-.94-2.06-.94-.94-2.06-.94 2.06-2.06.94zm-11 1L8.5 8.5l.94-2.06 2.06-.94-2.06-.94L8.5 2.5l-.94 2.06-2.06.94zm10 10l.94 2.06.94-2.06 2.06-.94-2.06-.94-.94-2.06-.94 2.06-2.06.94z\"/><path d=\"M17.41 7.96l-1.37-1.37c-.4-.4-.92-.59-1.43-.59-.52 0-1.04.2-1.43.59L10.3 9.45l-7.72 7.72c-.78.78-.78 2.05 0 2.83L4 21.41c.39.39.9.59 1.41.59.51 0 1.02-.2 1.41-.59l7.78-7.78 2.81-2.81c.8-.78.8-2.07 0-2.86zM5.41 20L4 18.59l7.72-7.72 1.47 1.35L5.41 20z\"/>\n",
              "  </svg>\n",
              "      </button>\n",
              "      \n",
              "  <style>\n",
              "    .colab-df-container {\n",
              "      display:flex;\n",
              "      flex-wrap:wrap;\n",
              "      gap: 12px;\n",
              "    }\n",
              "\n",
              "    .colab-df-convert {\n",
              "      background-color: #E8F0FE;\n",
              "      border: none;\n",
              "      border-radius: 50%;\n",
              "      cursor: pointer;\n",
              "      display: none;\n",
              "      fill: #1967D2;\n",
              "      height: 32px;\n",
              "      padding: 0 0 0 0;\n",
              "      width: 32px;\n",
              "    }\n",
              "\n",
              "    .colab-df-convert:hover {\n",
              "      background-color: #E2EBFA;\n",
              "      box-shadow: 0px 1px 2px rgba(60, 64, 67, 0.3), 0px 1px 3px 1px rgba(60, 64, 67, 0.15);\n",
              "      fill: #174EA6;\n",
              "    }\n",
              "\n",
              "    [theme=dark] .colab-df-convert {\n",
              "      background-color: #3B4455;\n",
              "      fill: #D2E3FC;\n",
              "    }\n",
              "\n",
              "    [theme=dark] .colab-df-convert:hover {\n",
              "      background-color: #434B5C;\n",
              "      box-shadow: 0px 1px 3px 1px rgba(0, 0, 0, 0.15);\n",
              "      filter: drop-shadow(0px 1px 2px rgba(0, 0, 0, 0.3));\n",
              "      fill: #FFFFFF;\n",
              "    }\n",
              "  </style>\n",
              "\n",
              "      <script>\n",
              "        const buttonEl =\n",
              "          document.querySelector('#df-5d05776e-613e-47cd-9ab0-a13b4dcbeb25 button.colab-df-convert');\n",
              "        buttonEl.style.display =\n",
              "          google.colab.kernel.accessAllowed ? 'block' : 'none';\n",
              "\n",
              "        async function convertToInteractive(key) {\n",
              "          const element = document.querySelector('#df-5d05776e-613e-47cd-9ab0-a13b4dcbeb25');\n",
              "          const dataTable =\n",
              "            await google.colab.kernel.invokeFunction('convertToInteractive',\n",
              "                                                     [key], {});\n",
              "          if (!dataTable) return;\n",
              "\n",
              "          const docLinkHtml = 'Like what you see? Visit the ' +\n",
              "            '<a target=\"_blank\" href=https://colab.research.google.com/notebooks/data_table.ipynb>data table notebook</a>'\n",
              "            + ' to learn more about interactive tables.';\n",
              "          element.innerHTML = '';\n",
              "          dataTable['output_type'] = 'display_data';\n",
              "          await google.colab.output.renderOutput(dataTable, element);\n",
              "          const docLink = document.createElement('div');\n",
              "          docLink.innerHTML = docLinkHtml;\n",
              "          element.appendChild(docLink);\n",
              "        }\n",
              "      </script>\n",
              "    </div>\n",
              "  </div>\n",
              "  "
            ]
          },
          "metadata": {},
          "execution_count": 37
        }
      ],
      "source": [
        "prof = pd.read_csv('profession.csv')\n",
        "prof.head()"
      ]
    },
    {
      "cell_type": "code",
      "execution_count": null,
      "metadata": {
        "colab": {
          "base_uri": "https://localhost:8080/",
          "height": 206
        },
        "id": "Y-x3rjDptDPK",
        "outputId": "d8d8739d-e12a-47e7-8778-e008fe50e54d"
      },
      "outputs": [
        {
          "output_type": "execute_result",
          "data": {
            "text/plain": [
              "           Professional_Profile     Sum  Probablity\n",
              "0  Farming/Agriculture Activity  197923    0.137519\n",
              "1                    House Wife  285243    0.198190\n",
              "2       Others (Please Specify)  469147    0.325968\n",
              "3         Professional Activity   39204    0.027239\n",
              "4     Public Sector Undertaking   30786    0.021390"
            ],
            "text/html": [
              "\n",
              "  <div id=\"df-89b2aa25-2c64-411b-b852-864cc1eefb2a\">\n",
              "    <div class=\"colab-df-container\">\n",
              "      <div>\n",
              "<style scoped>\n",
              "    .dataframe tbody tr th:only-of-type {\n",
              "        vertical-align: middle;\n",
              "    }\n",
              "\n",
              "    .dataframe tbody tr th {\n",
              "        vertical-align: top;\n",
              "    }\n",
              "\n",
              "    .dataframe thead th {\n",
              "        text-align: right;\n",
              "    }\n",
              "</style>\n",
              "<table border=\"1\" class=\"dataframe\">\n",
              "  <thead>\n",
              "    <tr style=\"text-align: right;\">\n",
              "      <th></th>\n",
              "      <th>Professional_Profile</th>\n",
              "      <th>Sum</th>\n",
              "      <th>Probablity</th>\n",
              "    </tr>\n",
              "  </thead>\n",
              "  <tbody>\n",
              "    <tr>\n",
              "      <th>0</th>\n",
              "      <td>Farming/Agriculture Activity</td>\n",
              "      <td>197923</td>\n",
              "      <td>0.137519</td>\n",
              "    </tr>\n",
              "    <tr>\n",
              "      <th>1</th>\n",
              "      <td>House Wife</td>\n",
              "      <td>285243</td>\n",
              "      <td>0.198190</td>\n",
              "    </tr>\n",
              "    <tr>\n",
              "      <th>2</th>\n",
              "      <td>Others (Please Specify)</td>\n",
              "      <td>469147</td>\n",
              "      <td>0.325968</td>\n",
              "    </tr>\n",
              "    <tr>\n",
              "      <th>3</th>\n",
              "      <td>Professional Activity</td>\n",
              "      <td>39204</td>\n",
              "      <td>0.027239</td>\n",
              "    </tr>\n",
              "    <tr>\n",
              "      <th>4</th>\n",
              "      <td>Public Sector Undertaking</td>\n",
              "      <td>30786</td>\n",
              "      <td>0.021390</td>\n",
              "    </tr>\n",
              "  </tbody>\n",
              "</table>\n",
              "</div>\n",
              "      <button class=\"colab-df-convert\" onclick=\"convertToInteractive('df-89b2aa25-2c64-411b-b852-864cc1eefb2a')\"\n",
              "              title=\"Convert this dataframe to an interactive table.\"\n",
              "              style=\"display:none;\">\n",
              "        \n",
              "  <svg xmlns=\"http://www.w3.org/2000/svg\" height=\"24px\"viewBox=\"0 0 24 24\"\n",
              "       width=\"24px\">\n",
              "    <path d=\"M0 0h24v24H0V0z\" fill=\"none\"/>\n",
              "    <path d=\"M18.56 5.44l.94 2.06.94-2.06 2.06-.94-2.06-.94-.94-2.06-.94 2.06-2.06.94zm-11 1L8.5 8.5l.94-2.06 2.06-.94-2.06-.94L8.5 2.5l-.94 2.06-2.06.94zm10 10l.94 2.06.94-2.06 2.06-.94-2.06-.94-.94-2.06-.94 2.06-2.06.94z\"/><path d=\"M17.41 7.96l-1.37-1.37c-.4-.4-.92-.59-1.43-.59-.52 0-1.04.2-1.43.59L10.3 9.45l-7.72 7.72c-.78.78-.78 2.05 0 2.83L4 21.41c.39.39.9.59 1.41.59.51 0 1.02-.2 1.41-.59l7.78-7.78 2.81-2.81c.8-.78.8-2.07 0-2.86zM5.41 20L4 18.59l7.72-7.72 1.47 1.35L5.41 20z\"/>\n",
              "  </svg>\n",
              "      </button>\n",
              "      \n",
              "  <style>\n",
              "    .colab-df-container {\n",
              "      display:flex;\n",
              "      flex-wrap:wrap;\n",
              "      gap: 12px;\n",
              "    }\n",
              "\n",
              "    .colab-df-convert {\n",
              "      background-color: #E8F0FE;\n",
              "      border: none;\n",
              "      border-radius: 50%;\n",
              "      cursor: pointer;\n",
              "      display: none;\n",
              "      fill: #1967D2;\n",
              "      height: 32px;\n",
              "      padding: 0 0 0 0;\n",
              "      width: 32px;\n",
              "    }\n",
              "\n",
              "    .colab-df-convert:hover {\n",
              "      background-color: #E2EBFA;\n",
              "      box-shadow: 0px 1px 2px rgba(60, 64, 67, 0.3), 0px 1px 3px 1px rgba(60, 64, 67, 0.15);\n",
              "      fill: #174EA6;\n",
              "    }\n",
              "\n",
              "    [theme=dark] .colab-df-convert {\n",
              "      background-color: #3B4455;\n",
              "      fill: #D2E3FC;\n",
              "    }\n",
              "\n",
              "    [theme=dark] .colab-df-convert:hover {\n",
              "      background-color: #434B5C;\n",
              "      box-shadow: 0px 1px 3px 1px rgba(0, 0, 0, 0.15);\n",
              "      filter: drop-shadow(0px 1px 2px rgba(0, 0, 0, 0.3));\n",
              "      fill: #FFFFFF;\n",
              "    }\n",
              "  </style>\n",
              "\n",
              "      <script>\n",
              "        const buttonEl =\n",
              "          document.querySelector('#df-89b2aa25-2c64-411b-b852-864cc1eefb2a button.colab-df-convert');\n",
              "        buttonEl.style.display =\n",
              "          google.colab.kernel.accessAllowed ? 'block' : 'none';\n",
              "\n",
              "        async function convertToInteractive(key) {\n",
              "          const element = document.querySelector('#df-89b2aa25-2c64-411b-b852-864cc1eefb2a');\n",
              "          const dataTable =\n",
              "            await google.colab.kernel.invokeFunction('convertToInteractive',\n",
              "                                                     [key], {});\n",
              "          if (!dataTable) return;\n",
              "\n",
              "          const docLinkHtml = 'Like what you see? Visit the ' +\n",
              "            '<a target=\"_blank\" href=https://colab.research.google.com/notebooks/data_table.ipynb>data table notebook</a>'\n",
              "            + ' to learn more about interactive tables.';\n",
              "          element.innerHTML = '';\n",
              "          dataTable['output_type'] = 'display_data';\n",
              "          await google.colab.output.renderOutput(dataTable, element);\n",
              "          const docLink = document.createElement('div');\n",
              "          docLink.innerHTML = docLinkHtml;\n",
              "          element.appendChild(docLink);\n",
              "        }\n",
              "      </script>\n",
              "    </div>\n",
              "  </div>\n",
              "  "
            ]
          },
          "metadata": {},
          "execution_count": 38
        }
      ],
      "source": [
        "social = pd.read_csv('social.csv')\n",
        "prof.head()"
      ]
    },
    {
      "cell_type": "code",
      "execution_count": null,
      "metadata": {
        "id": "YmSuKC7itgGN"
      },
      "outputs": [],
      "source": [
        "personA = {'age': '15-29', \n",
        "           'causes': 'Death of Dear Person', \n",
        "           'gender': 'Female',\n",
        "           'prof': 'House Wife',\n",
        "           'social': 'Widowed/Widower'}"
      ]
    },
    {
      "cell_type": "code",
      "execution_count": null,
      "metadata": {
        "id": "wP9QlOpwt1SC"
      },
      "outputs": [],
      "source": [
        "personA[\"probablity\"] = age[\"Probablity\"][age['Row Labels'] == personA['age']].tolist()[0] * causes[\"Probablity\"][causes['Causes'] == personA['causes']].tolist()[0] *gender[\"Probablity\"][gender['Row Labels'] == personA['gender']].tolist()[0] *prof[\"Probablity\"][prof['Professional_Profile'] == personA['prof']].tolist()[0] *social[\"Probablity\"][social['Social_Status'] == personA['social']].tolist()[0] "
      ]
    },
    {
      "cell_type": "code",
      "execution_count": null,
      "metadata": {
        "colab": {
          "base_uri": "https://localhost:8080/"
        },
        "id": "qRVliE25t3LZ",
        "outputId": "b93c4b40-21e2-4d55-b007-4b66ef69f7b5"
      },
      "outputs": [
        {
          "output_type": "execute_result",
          "data": {
            "text/plain": [
              "{'age': '15-29',\n",
              " 'causes': 'Death of Dear Person',\n",
              " 'gender': 'Female',\n",
              " 'probablity': 8.48649653018369e-07,\n",
              " 'prof': 'House Wife',\n",
              " 'social': 'Widowed/Widower'}"
            ]
          },
          "metadata": {},
          "execution_count": 41
        }
      ],
      "source": [
        "personA"
      ]
    },
    {
      "cell_type": "code",
      "execution_count": null,
      "metadata": {
        "id": "UzmmMs67t5rX"
      },
      "outputs": [],
      "source": [
        "personB = {'age': '45-59', \n",
        "           'causes': 'Bankruptcy or Sudden change in Economic', \n",
        "           'gender': 'Male',\n",
        "           'prof': 'Public Sector Undertaking',\n",
        "           'social': 'Married'}"
      ]
    },
    {
      "cell_type": "code",
      "execution_count": null,
      "metadata": {
        "id": "OGv6JUTXt6co"
      },
      "outputs": [],
      "source": [
        "personB[\"probablity\"] = age[\"Probablity\"][age['Row Labels'] == personB['age']].tolist()[0] * causes[\"Probablity\"][causes['Causes'] == personB['causes']].tolist()[0] *gender[\"Probablity\"][gender['Row Labels'] == personB['gender']].tolist()[0] *prof[\"Probablity\"][prof['Professional_Profile'] == personB['prof']].tolist()[0] *social[\"Probablity\"][social['Social_Status'] == personB['social']].tolist()[0] "
      ]
    },
    {
      "cell_type": "code",
      "execution_count": null,
      "metadata": {
        "colab": {
          "base_uri": "https://localhost:8080/"
        },
        "id": "zFtO8DHLt9_l",
        "outputId": "e8991c3a-75bc-4a9a-d50d-6e9c0c805193"
      },
      "outputs": [
        {
          "output_type": "execute_result",
          "data": {
            "text/plain": [
              "{'age': '45-59',\n",
              " 'causes': 'Bankruptcy or Sudden change in Economic',\n",
              " 'gender': 'Male',\n",
              " 'probablity': 4.909955067174665e-06,\n",
              " 'prof': 'Public Sector Undertaking',\n",
              " 'social': 'Married'}"
            ]
          },
          "metadata": {},
          "execution_count": 44
        }
      ],
      "source": [
        "personB"
      ]
    },
    {
      "cell_type": "code",
      "execution_count": null,
      "metadata": {
        "colab": {
          "base_uri": "https://localhost:8080/"
        },
        "id": "TiQx2GTGt-qs",
        "outputId": "3dfe13ea-e4f1-4522-87a2-29d1d0ed53fd"
      },
      "outputs": [
        {
          "output_type": "stream",
          "name": "stdout",
          "text": [
            "Person B is more vulnerable\n"
          ]
        }
      ],
      "source": [
        "if(personA[\"probablity\"] > personB[\"probablity\"]): \n",
        "    print(\"Person A is more vulnerable\")\n",
        "\n",
        "else:\n",
        "    print(\"Person B is more vulnerable\")"
      ]
    }
  ],
  "metadata": {
    "colab": {
      "provenance": []
    },
    "kernelspec": {
      "display_name": "Python 3",
      "name": "python3"
    },
    "language_info": {
      "name": "python"
    }
  },
  "nbformat": 4,
  "nbformat_minor": 0
}